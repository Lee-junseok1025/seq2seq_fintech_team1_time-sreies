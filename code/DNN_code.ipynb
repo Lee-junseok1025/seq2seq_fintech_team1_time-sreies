{
 "cells": [
  {
   "cell_type": "markdown",
   "metadata": {},
   "source": [
    "# BTC"
   ]
  },
  {
   "cell_type": "code",
   "execution_count": 1,
   "metadata": {},
   "outputs": [],
   "source": [
    "from tensorflow import keras\n",
    "from tensorflow.keras.models import Sequential\n",
    "import numpy as np\n",
    "import pandas as pd\n",
    "import matplotlib.pyplot as plt"
   ]
  },
  {
   "cell_type": "code",
   "execution_count": 2,
   "metadata": {},
   "outputs": [
    {
     "data": {
      "text/html": [
       "<div>\n",
       "<style scoped>\n",
       "    .dataframe tbody tr th:only-of-type {\n",
       "        vertical-align: middle;\n",
       "    }\n",
       "\n",
       "    .dataframe tbody tr th {\n",
       "        vertical-align: top;\n",
       "    }\n",
       "\n",
       "    .dataframe thead th {\n",
       "        text-align: right;\n",
       "    }\n",
       "</style>\n",
       "<table border=\"1\" class=\"dataframe\">\n",
       "  <thead>\n",
       "    <tr style=\"text-align: right;\">\n",
       "      <th></th>\n",
       "      <th>open</th>\n",
       "      <th>high</th>\n",
       "      <th>low</th>\n",
       "      <th>close</th>\n",
       "      <th>volume</th>\n",
       "      <th>value</th>\n",
       "    </tr>\n",
       "  </thead>\n",
       "  <tbody>\n",
       "    <tr>\n",
       "      <th>2019-09-06 21:00:00+00:00</th>\n",
       "      <td>10837.073450</td>\n",
       "      <td>10892.000000</td>\n",
       "      <td>10825.000000</td>\n",
       "      <td>10826.240000</td>\n",
       "      <td>13.028313</td>\n",
       "      <td>141488.509446</td>\n",
       "    </tr>\n",
       "    <tr>\n",
       "      <th>2019-09-06 22:00:00+00:00</th>\n",
       "      <td>10826.240000</td>\n",
       "      <td>10851.990000</td>\n",
       "      <td>10763.968517</td>\n",
       "      <td>10803.422690</td>\n",
       "      <td>26.329976</td>\n",
       "      <td>284421.274696</td>\n",
       "    </tr>\n",
       "    <tr>\n",
       "      <th>2019-09-06 23:00:00+00:00</th>\n",
       "      <td>10803.410000</td>\n",
       "      <td>10850.000000</td>\n",
       "      <td>10803.410000</td>\n",
       "      <td>10827.649995</td>\n",
       "      <td>11.192036</td>\n",
       "      <td>121318.460494</td>\n",
       "    </tr>\n",
       "    <tr>\n",
       "      <th>2019-09-07 00:00:00+00:00</th>\n",
       "      <td>10833.520000</td>\n",
       "      <td>10879.270000</td>\n",
       "      <td>10833.520000</td>\n",
       "      <td>10843.160000</td>\n",
       "      <td>7.257861</td>\n",
       "      <td>78828.225009</td>\n",
       "    </tr>\n",
       "    <tr>\n",
       "      <th>2019-09-07 01:00:00+00:00</th>\n",
       "      <td>10841.006105</td>\n",
       "      <td>10856.282376</td>\n",
       "      <td>10827.649995</td>\n",
       "      <td>10855.177197</td>\n",
       "      <td>5.160667</td>\n",
       "      <td>55951.010868</td>\n",
       "    </tr>\n",
       "    <tr>\n",
       "      <th>...</th>\n",
       "      <td>...</td>\n",
       "      <td>...</td>\n",
       "      <td>...</td>\n",
       "      <td>...</td>\n",
       "      <td>...</td>\n",
       "      <td>...</td>\n",
       "    </tr>\n",
       "    <tr>\n",
       "      <th>2022-05-01 04:00:00+00:00</th>\n",
       "      <td>38366.850000</td>\n",
       "      <td>38531.871679</td>\n",
       "      <td>38366.850000</td>\n",
       "      <td>38531.871679</td>\n",
       "      <td>0.017207</td>\n",
       "      <td>661.545067</td>\n",
       "    </tr>\n",
       "    <tr>\n",
       "      <th>2022-05-01 05:00:00+00:00</th>\n",
       "      <td>38453.599000</td>\n",
       "      <td>38453.599000</td>\n",
       "      <td>38379.200000</td>\n",
       "      <td>38379.200000</td>\n",
       "      <td>0.019895</td>\n",
       "      <td>764.321204</td>\n",
       "    </tr>\n",
       "    <tr>\n",
       "      <th>2022-05-01 06:00:00+00:00</th>\n",
       "      <td>38379.200000</td>\n",
       "      <td>38445.961000</td>\n",
       "      <td>38332.268000</td>\n",
       "      <td>38382.931000</td>\n",
       "      <td>0.153709</td>\n",
       "      <td>5905.244381</td>\n",
       "    </tr>\n",
       "    <tr>\n",
       "      <th>2022-05-01 07:00:00+00:00</th>\n",
       "      <td>38301.414000</td>\n",
       "      <td>38422.006800</td>\n",
       "      <td>38259.735000</td>\n",
       "      <td>38399.064000</td>\n",
       "      <td>0.520722</td>\n",
       "      <td>19982.987904</td>\n",
       "    </tr>\n",
       "    <tr>\n",
       "      <th>2022-05-01 08:00:00+00:00</th>\n",
       "      <td>38370.906000</td>\n",
       "      <td>38370.906000</td>\n",
       "      <td>37654.172000</td>\n",
       "      <td>37666.710000</td>\n",
       "      <td>2.583532</td>\n",
       "      <td>97615.410157</td>\n",
       "    </tr>\n",
       "  </tbody>\n",
       "</table>\n",
       "<p>20000 rows × 6 columns</p>\n",
       "</div>"
      ],
      "text/plain": [
       "                                   open          high           low  \\\n",
       "2019-09-06 21:00:00+00:00  10837.073450  10892.000000  10825.000000   \n",
       "2019-09-06 22:00:00+00:00  10826.240000  10851.990000  10763.968517   \n",
       "2019-09-06 23:00:00+00:00  10803.410000  10850.000000  10803.410000   \n",
       "2019-09-07 00:00:00+00:00  10833.520000  10879.270000  10833.520000   \n",
       "2019-09-07 01:00:00+00:00  10841.006105  10856.282376  10827.649995   \n",
       "...                                 ...           ...           ...   \n",
       "2022-05-01 04:00:00+00:00  38366.850000  38531.871679  38366.850000   \n",
       "2022-05-01 05:00:00+00:00  38453.599000  38453.599000  38379.200000   \n",
       "2022-05-01 06:00:00+00:00  38379.200000  38445.961000  38332.268000   \n",
       "2022-05-01 07:00:00+00:00  38301.414000  38422.006800  38259.735000   \n",
       "2022-05-01 08:00:00+00:00  38370.906000  38370.906000  37654.172000   \n",
       "\n",
       "                                  close     volume          value  \n",
       "2019-09-06 21:00:00+00:00  10826.240000  13.028313  141488.509446  \n",
       "2019-09-06 22:00:00+00:00  10803.422690  26.329976  284421.274696  \n",
       "2019-09-06 23:00:00+00:00  10827.649995  11.192036  121318.460494  \n",
       "2019-09-07 00:00:00+00:00  10843.160000   7.257861   78828.225009  \n",
       "2019-09-07 01:00:00+00:00  10855.177197   5.160667   55951.010868  \n",
       "...                                 ...        ...            ...  \n",
       "2022-05-01 04:00:00+00:00  38531.871679   0.017207     661.545067  \n",
       "2022-05-01 05:00:00+00:00  38379.200000   0.019895     764.321204  \n",
       "2022-05-01 06:00:00+00:00  38382.931000   0.153709    5905.244381  \n",
       "2022-05-01 07:00:00+00:00  38399.064000   0.520722   19982.987904  \n",
       "2022-05-01 08:00:00+00:00  37666.710000   2.583532   97615.410157  \n",
       "\n",
       "[20000 rows x 6 columns]"
      ]
     },
     "execution_count": 2,
     "metadata": {},
     "output_type": "execute_result"
    }
   ],
   "source": [
    "BTC = pd.read_csv('C:/fintech6/_project2/src/BTC.csv',infer_datetime_format=True,index_col='Unnamed: 0')\n",
    "BTC"
   ]
  },
  {
   "cell_type": "code",
   "execution_count": 3,
   "metadata": {},
   "outputs": [
    {
     "data": {
      "text/html": [
       "<div>\n",
       "<style scoped>\n",
       "    .dataframe tbody tr th:only-of-type {\n",
       "        vertical-align: middle;\n",
       "    }\n",
       "\n",
       "    .dataframe tbody tr th {\n",
       "        vertical-align: top;\n",
       "    }\n",
       "\n",
       "    .dataframe thead th {\n",
       "        text-align: right;\n",
       "    }\n",
       "</style>\n",
       "<table border=\"1\" class=\"dataframe\">\n",
       "  <thead>\n",
       "    <tr style=\"text-align: right;\">\n",
       "      <th></th>\n",
       "      <th>open</th>\n",
       "      <th>high</th>\n",
       "      <th>low</th>\n",
       "      <th>close</th>\n",
       "      <th>volume</th>\n",
       "      <th>value</th>\n",
       "    </tr>\n",
       "  </thead>\n",
       "  <tbody>\n",
       "    <tr>\n",
       "      <th>2019-09-07 00:00:00+00:00</th>\n",
       "      <td>10833.520000</td>\n",
       "      <td>10879.270000</td>\n",
       "      <td>10833.520000</td>\n",
       "      <td>10843.160000</td>\n",
       "      <td>7.257861</td>\n",
       "      <td>7.882823e+04</td>\n",
       "    </tr>\n",
       "    <tr>\n",
       "      <th>2019-09-07 01:00:00+00:00</th>\n",
       "      <td>10841.006105</td>\n",
       "      <td>10856.282376</td>\n",
       "      <td>10827.649995</td>\n",
       "      <td>10855.177197</td>\n",
       "      <td>5.160667</td>\n",
       "      <td>5.595101e+04</td>\n",
       "    </tr>\n",
       "    <tr>\n",
       "      <th>2019-09-07 02:00:00+00:00</th>\n",
       "      <td>10855.177197</td>\n",
       "      <td>10855.177197</td>\n",
       "      <td>10282.054053</td>\n",
       "      <td>10430.460000</td>\n",
       "      <td>187.320146</td>\n",
       "      <td>1.960596e+06</td>\n",
       "    </tr>\n",
       "    <tr>\n",
       "      <th>2019-09-07 03:00:00+00:00</th>\n",
       "      <td>10423.205919</td>\n",
       "      <td>10433.354008</td>\n",
       "      <td>10350.000000</td>\n",
       "      <td>10354.800000</td>\n",
       "      <td>22.704425</td>\n",
       "      <td>2.361178e+05</td>\n",
       "    </tr>\n",
       "    <tr>\n",
       "      <th>2019-09-07 04:00:00+00:00</th>\n",
       "      <td>10361.777139</td>\n",
       "      <td>10403.800000</td>\n",
       "      <td>10350.000000</td>\n",
       "      <td>10390.510000</td>\n",
       "      <td>27.535793</td>\n",
       "      <td>2.857438e+05</td>\n",
       "    </tr>\n",
       "    <tr>\n",
       "      <th>...</th>\n",
       "      <td>...</td>\n",
       "      <td>...</td>\n",
       "      <td>...</td>\n",
       "      <td>...</td>\n",
       "      <td>...</td>\n",
       "      <td>...</td>\n",
       "    </tr>\n",
       "    <tr>\n",
       "      <th>2022-04-30 19:00:00+00:00</th>\n",
       "      <td>38634.148000</td>\n",
       "      <td>38669.788800</td>\n",
       "      <td>38620.169000</td>\n",
       "      <td>38620.169000</td>\n",
       "      <td>0.333999</td>\n",
       "      <td>1.290469e+04</td>\n",
       "    </tr>\n",
       "    <tr>\n",
       "      <th>2022-04-30 20:00:00+00:00</th>\n",
       "      <td>38620.169000</td>\n",
       "      <td>38695.574000</td>\n",
       "      <td>38620.169000</td>\n",
       "      <td>38620.169000</td>\n",
       "      <td>0.217057</td>\n",
       "      <td>8.385589e+03</td>\n",
       "    </tr>\n",
       "    <tr>\n",
       "      <th>2022-04-30 21:00:00+00:00</th>\n",
       "      <td>38620.169000</td>\n",
       "      <td>38757.092732</td>\n",
       "      <td>38620.169000</td>\n",
       "      <td>38620.169000</td>\n",
       "      <td>1.963208</td>\n",
       "      <td>7.588252e+04</td>\n",
       "    </tr>\n",
       "    <tr>\n",
       "      <th>2022-04-30 22:00:00+00:00</th>\n",
       "      <td>38620.169000</td>\n",
       "      <td>38685.101000</td>\n",
       "      <td>38496.827930</td>\n",
       "      <td>38546.263000</td>\n",
       "      <td>1.444348</td>\n",
       "      <td>5.572170e+04</td>\n",
       "    </tr>\n",
       "    <tr>\n",
       "      <th>2022-04-30 23:00:00+00:00</th>\n",
       "      <td>38577.597000</td>\n",
       "      <td>38658.773000</td>\n",
       "      <td>38337.206384</td>\n",
       "      <td>38346.609000</td>\n",
       "      <td>0.093206</td>\n",
       "      <td>3.590322e+03</td>\n",
       "    </tr>\n",
       "  </tbody>\n",
       "</table>\n",
       "<p>19988 rows × 6 columns</p>\n",
       "</div>"
      ],
      "text/plain": [
       "                                   open          high           low  \\\n",
       "2019-09-07 00:00:00+00:00  10833.520000  10879.270000  10833.520000   \n",
       "2019-09-07 01:00:00+00:00  10841.006105  10856.282376  10827.649995   \n",
       "2019-09-07 02:00:00+00:00  10855.177197  10855.177197  10282.054053   \n",
       "2019-09-07 03:00:00+00:00  10423.205919  10433.354008  10350.000000   \n",
       "2019-09-07 04:00:00+00:00  10361.777139  10403.800000  10350.000000   \n",
       "...                                 ...           ...           ...   \n",
       "2022-04-30 19:00:00+00:00  38634.148000  38669.788800  38620.169000   \n",
       "2022-04-30 20:00:00+00:00  38620.169000  38695.574000  38620.169000   \n",
       "2022-04-30 21:00:00+00:00  38620.169000  38757.092732  38620.169000   \n",
       "2022-04-30 22:00:00+00:00  38620.169000  38685.101000  38496.827930   \n",
       "2022-04-30 23:00:00+00:00  38577.597000  38658.773000  38337.206384   \n",
       "\n",
       "                                  close      volume         value  \n",
       "2019-09-07 00:00:00+00:00  10843.160000    7.257861  7.882823e+04  \n",
       "2019-09-07 01:00:00+00:00  10855.177197    5.160667  5.595101e+04  \n",
       "2019-09-07 02:00:00+00:00  10430.460000  187.320146  1.960596e+06  \n",
       "2019-09-07 03:00:00+00:00  10354.800000   22.704425  2.361178e+05  \n",
       "2019-09-07 04:00:00+00:00  10390.510000   27.535793  2.857438e+05  \n",
       "...                                 ...         ...           ...  \n",
       "2022-04-30 19:00:00+00:00  38620.169000    0.333999  1.290469e+04  \n",
       "2022-04-30 20:00:00+00:00  38620.169000    0.217057  8.385589e+03  \n",
       "2022-04-30 21:00:00+00:00  38620.169000    1.963208  7.588252e+04  \n",
       "2022-04-30 22:00:00+00:00  38546.263000    1.444348  5.572170e+04  \n",
       "2022-04-30 23:00:00+00:00  38346.609000    0.093206  3.590322e+03  \n",
       "\n",
       "[19988 rows x 6 columns]"
      ]
     },
     "execution_count": 3,
     "metadata": {},
     "output_type": "execute_result"
    }
   ],
   "source": [
    "BTC = BTC[BTC.index >= '2019-09-07']\n",
    "BTC = BTC[BTC.index < '2022-05-01']\n",
    "BTC"
   ]
  },
  {
   "cell_type": "code",
   "execution_count": 4,
   "metadata": {},
   "outputs": [
    {
     "data": {
      "text/html": [
       "<div>\n",
       "<style scoped>\n",
       "    .dataframe tbody tr th:only-of-type {\n",
       "        vertical-align: middle;\n",
       "    }\n",
       "\n",
       "    .dataframe tbody tr th {\n",
       "        vertical-align: top;\n",
       "    }\n",
       "\n",
       "    .dataframe thead th {\n",
       "        text-align: right;\n",
       "    }\n",
       "</style>\n",
       "<table border=\"1\" class=\"dataframe\">\n",
       "  <thead>\n",
       "    <tr style=\"text-align: right;\">\n",
       "      <th></th>\n",
       "      <th>close</th>\n",
       "    </tr>\n",
       "  </thead>\n",
       "  <tbody>\n",
       "    <tr>\n",
       "      <th>2019-09-07 00:00:00+00:00</th>\n",
       "      <td>10843.160000</td>\n",
       "    </tr>\n",
       "    <tr>\n",
       "      <th>2019-09-07 01:00:00+00:00</th>\n",
       "      <td>10855.177197</td>\n",
       "    </tr>\n",
       "    <tr>\n",
       "      <th>2019-09-07 02:00:00+00:00</th>\n",
       "      <td>10430.460000</td>\n",
       "    </tr>\n",
       "    <tr>\n",
       "      <th>2019-09-07 03:00:00+00:00</th>\n",
       "      <td>10354.800000</td>\n",
       "    </tr>\n",
       "    <tr>\n",
       "      <th>2019-09-07 04:00:00+00:00</th>\n",
       "      <td>10390.510000</td>\n",
       "    </tr>\n",
       "    <tr>\n",
       "      <th>...</th>\n",
       "      <td>...</td>\n",
       "    </tr>\n",
       "    <tr>\n",
       "      <th>2022-04-30 19:00:00+00:00</th>\n",
       "      <td>38620.169000</td>\n",
       "    </tr>\n",
       "    <tr>\n",
       "      <th>2022-04-30 20:00:00+00:00</th>\n",
       "      <td>38620.169000</td>\n",
       "    </tr>\n",
       "    <tr>\n",
       "      <th>2022-04-30 21:00:00+00:00</th>\n",
       "      <td>38620.169000</td>\n",
       "    </tr>\n",
       "    <tr>\n",
       "      <th>2022-04-30 22:00:00+00:00</th>\n",
       "      <td>38546.263000</td>\n",
       "    </tr>\n",
       "    <tr>\n",
       "      <th>2022-04-30 23:00:00+00:00</th>\n",
       "      <td>38346.609000</td>\n",
       "    </tr>\n",
       "  </tbody>\n",
       "</table>\n",
       "<p>19988 rows × 1 columns</p>\n",
       "</div>"
      ],
      "text/plain": [
       "                                  close\n",
       "2019-09-07 00:00:00+00:00  10843.160000\n",
       "2019-09-07 01:00:00+00:00  10855.177197\n",
       "2019-09-07 02:00:00+00:00  10430.460000\n",
       "2019-09-07 03:00:00+00:00  10354.800000\n",
       "2019-09-07 04:00:00+00:00  10390.510000\n",
       "...                                 ...\n",
       "2022-04-30 19:00:00+00:00  38620.169000\n",
       "2022-04-30 20:00:00+00:00  38620.169000\n",
       "2022-04-30 21:00:00+00:00  38620.169000\n",
       "2022-04-30 22:00:00+00:00  38546.263000\n",
       "2022-04-30 23:00:00+00:00  38346.609000\n",
       "\n",
       "[19988 rows x 1 columns]"
      ]
     },
     "execution_count": 4,
     "metadata": {},
     "output_type": "execute_result"
    }
   ],
   "source": [
    "BTC = BTC[['close']]\n",
    "BTC"
   ]
  },
  {
   "cell_type": "code",
   "execution_count": 5,
   "metadata": {},
   "outputs": [
    {
     "name": "stdout",
     "output_type": "stream",
     "text": [
      "(19916, 1) (72, 1)\n"
     ]
    }
   ],
   "source": [
    "train = BTC.iloc[:-72]\n",
    "test = BTC.iloc[-72:]\n",
    "print(train.shape,test.shape)"
   ]
  },
  {
   "cell_type": "code",
   "execution_count": 6,
   "metadata": {},
   "outputs": [
    {
     "name": "stdout",
     "output_type": "stream",
     "text": [
      "(19892, 1) (19892, 1)\n"
     ]
    }
   ],
   "source": [
    "x_train = train[:-24]\n",
    "y_train = train[24:]\n",
    "print(x_train.shape,y_train.shape)"
   ]
  },
  {
   "cell_type": "code",
   "execution_count": 7,
   "metadata": {},
   "outputs": [
    {
     "name": "stdout",
     "output_type": "stream",
     "text": [
      "(48, 1) (48, 1)\n"
     ]
    }
   ],
   "source": [
    "x_test = test[:-24]\n",
    "y_test = test[24:]\n",
    "print(x_test.shape,y_test.shape)"
   ]
  },
  {
   "cell_type": "code",
   "execution_count": 8,
   "metadata": {},
   "outputs": [],
   "source": [
    "def windowDataset(data,label,window_size=24):\n",
    "    feature_list = []\n",
    "    label_list = []\n",
    "    for i in range(len(data) - window_size):\n",
    "        feature_list.append(np.array(data[i:i+window_size]))\n",
    "        label_list.append(np.array(label.iloc[i]))\n",
    "    return np.array(feature_list), np.array(label_list)"
   ]
  },
  {
   "cell_type": "code",
   "execution_count": 9,
   "metadata": {},
   "outputs": [
    {
     "name": "stdout",
     "output_type": "stream",
     "text": [
      "(19868, 24, 1) (19868, 1)\n"
     ]
    }
   ],
   "source": [
    "x_train,y_train = windowDataset(x_train,y_train)\n",
    "print(x_train.shape,y_train.shape)"
   ]
  },
  {
   "cell_type": "code",
   "execution_count": 10,
   "metadata": {},
   "outputs": [
    {
     "name": "stdout",
     "output_type": "stream",
     "text": [
      "(24, 24, 1) (24, 1)\n"
     ]
    }
   ],
   "source": [
    "x_test,y_test = windowDataset(x_test,y_test)\n",
    "print(x_test.shape,y_test.shape)"
   ]
  },
  {
   "cell_type": "code",
   "execution_count": 11,
   "metadata": {},
   "outputs": [
    {
     "data": {
      "text/plain": [
       "(19868, 24)"
      ]
     },
     "execution_count": 11,
     "metadata": {},
     "output_type": "execute_result"
    }
   ],
   "source": [
    "x_train = x_train.reshape(x_train.shape[0],x_train.shape[1])\n",
    "x_train.shape"
   ]
  },
  {
   "cell_type": "code",
   "execution_count": 12,
   "metadata": {},
   "outputs": [],
   "source": [
    "x_test = x_test.reshape(x_test.shape[0],x_test.shape[1])"
   ]
  },
  {
   "cell_type": "code",
   "execution_count": 13,
   "metadata": {},
   "outputs": [],
   "source": [
    "import tensorflow as tf\n",
    "from sklearn.model_selection import TimeSeriesSplit,train_test_split\n",
    "from tensorflow.keras.layers import Dense,BatchNormalization,Dropout\n",
    "from tensorflow.keras.models import Sequential\n",
    "from tensorflow.keras.callbacks import EarlyStopping,ModelCheckpoint,ReduceLROnPlateau\n",
    "\n",
    "from sklearn.preprocessing import RobustScaler\n",
    "\n",
    "import warnings\n",
    "warnings.filterwarnings(action='ignore')"
   ]
  },
  {
   "cell_type": "code",
   "execution_count": 14,
   "metadata": {},
   "outputs": [],
   "source": [
    "model = keras.models.Sequential([\n",
    "    Dense(512,activation='swish',kernel_initializer='random_normal'),\n",
    "    Dense(256,activation='swish'),\n",
    "    Dense(128,activation='swish'),\n",
    "    Dense(64,activation='swish'),\n",
    "    Dense(1)\n",
    "])"
   ]
  },
  {
   "cell_type": "code",
   "execution_count": 15,
   "metadata": {},
   "outputs": [],
   "source": [
    "X_train, X_valid, Y_train, Y_valid = train_test_split(x_train,y_train,test_size=0.1,shuffle=False)"
   ]
  },
  {
   "cell_type": "code",
   "execution_count": 16,
   "metadata": {},
   "outputs": [],
   "source": [
    "model.compile(\n",
    "    optimizer=tf.keras.optimizers.Adamax(lr=1e-3),\n",
    "    loss=tf.keras.losses.MeanAbsolutePercentageError(), \n",
    "    metrics=['mae']\n",
    ")\n",
    "callback = ModelCheckpoint('model.h5')\n",
    "earlystopping = EarlyStopping(patience=10,verbose=1)\n",
    "scheduler = ReduceLROnPlateau(patience=5,factor=0.5,cooldown=0,min_lr=1e-4)"
   ]
  },
  {
   "cell_type": "code",
   "execution_count": 17,
   "metadata": {
    "tags": []
   },
   "outputs": [
    {
     "name": "stdout",
     "output_type": "stream",
     "text": [
      "Epoch 1/500\n",
      "140/140 [==============================] - 2s 7ms/step - loss: 4.4722 - mae: 1304.4084 - val_loss: 1.2542 - val_mae: 515.6395 - lr: 0.0010\n",
      "Epoch 2/500\n",
      "140/140 [==============================] - 1s 5ms/step - loss: 1.7819 - mae: 508.2979 - val_loss: 1.0529 - val_mae: 432.9188 - lr: 0.0010\n",
      "Epoch 3/500\n",
      "140/140 [==============================] - 1s 5ms/step - loss: 1.6833 - mae: 477.4785 - val_loss: 1.0188 - val_mae: 418.5611 - lr: 0.0010\n",
      "Epoch 4/500\n",
      "140/140 [==============================] - 1s 5ms/step - loss: 1.4918 - mae: 414.9661 - val_loss: 1.4886 - val_mae: 614.3708 - lr: 0.0010\n",
      "Epoch 5/500\n",
      "140/140 [==============================] - 1s 5ms/step - loss: 1.6209 - mae: 453.3964 - val_loss: 1.7387 - val_mae: 718.8392 - lr: 0.0010\n",
      "Epoch 6/500\n",
      "140/140 [==============================] - 1s 5ms/step - loss: 1.7624 - mae: 497.5874 - val_loss: 2.4990 - val_mae: 1041.6874 - lr: 0.0010\n",
      "Epoch 7/500\n",
      "140/140 [==============================] - 1s 5ms/step - loss: 1.3615 - mae: 373.9184 - val_loss: 1.0241 - val_mae: 424.7455 - lr: 0.0010\n",
      "Epoch 8/500\n",
      "140/140 [==============================] - 1s 5ms/step - loss: 1.7248 - mae: 488.8925 - val_loss: 1.2812 - val_mae: 532.8001 - lr: 0.0010\n",
      "Epoch 9/500\n",
      "140/140 [==============================] - 1s 5ms/step - loss: 1.2519 - mae: 339.8619 - val_loss: 1.1121 - val_mae: 459.1788 - lr: 5.0000e-04\n",
      "Epoch 10/500\n",
      "140/140 [==============================] - 1s 5ms/step - loss: 1.1991 - mae: 323.0511 - val_loss: 0.7618 - val_mae: 314.7029 - lr: 5.0000e-04\n",
      "Epoch 11/500\n",
      "140/140 [==============================] - 1s 5ms/step - loss: 1.1883 - mae: 317.9427 - val_loss: 0.6282 - val_mae: 258.3631 - lr: 5.0000e-04\n",
      "Epoch 12/500\n",
      "140/140 [==============================] - 1s 5ms/step - loss: 1.2092 - mae: 326.5963 - val_loss: 0.6806 - val_mae: 280.7515 - lr: 5.0000e-04\n",
      "Epoch 13/500\n",
      "140/140 [==============================] - 1s 5ms/step - loss: 1.1923 - mae: 318.9150 - val_loss: 0.6106 - val_mae: 251.2885 - lr: 5.0000e-04\n",
      "Epoch 14/500\n",
      "140/140 [==============================] - 1s 5ms/step - loss: 1.2056 - mae: 323.6087 - val_loss: 0.5990 - val_mae: 246.5624 - lr: 5.0000e-04\n",
      "Epoch 15/500\n",
      "140/140 [==============================] - 1s 5ms/step - loss: 1.1268 - mae: 298.9153 - val_loss: 1.6208 - val_mae: 674.5536 - lr: 5.0000e-04\n",
      "Epoch 16/500\n",
      "140/140 [==============================] - 1s 6ms/step - loss: 1.1880 - mae: 316.9832 - val_loss: 0.7390 - val_mae: 304.8249 - lr: 5.0000e-04\n",
      "Epoch 17/500\n",
      "140/140 [==============================] - 1s 5ms/step - loss: 1.1124 - mae: 292.5717 - val_loss: 0.6413 - val_mae: 264.8279 - lr: 5.0000e-04\n",
      "Epoch 18/500\n",
      "140/140 [==============================] - 1s 6ms/step - loss: 1.2073 - mae: 324.0793 - val_loss: 0.9404 - val_mae: 390.4174 - lr: 5.0000e-04\n",
      "Epoch 19/500\n",
      "140/140 [==============================] - 1s 5ms/step - loss: 1.1091 - mae: 291.8180 - val_loss: 0.7373 - val_mae: 305.2578 - lr: 5.0000e-04\n",
      "Epoch 20/500\n",
      "140/140 [==============================] - 1s 6ms/step - loss: 1.0290 - mae: 266.1351 - val_loss: 0.8490 - val_mae: 352.1694 - lr: 2.5000e-04\n",
      "Epoch 21/500\n",
      "140/140 [==============================] - 1s 5ms/step - loss: 1.0213 - mae: 263.9909 - val_loss: 0.5342 - val_mae: 219.9344 - lr: 2.5000e-04\n",
      "Epoch 22/500\n",
      "140/140 [==============================] - 1s 5ms/step - loss: 1.0143 - mae: 261.0569 - val_loss: 0.5320 - val_mae: 219.1618 - lr: 2.5000e-04\n",
      "Epoch 23/500\n",
      "140/140 [==============================] - 1s 5ms/step - loss: 1.0226 - mae: 263.8200 - val_loss: 0.5378 - val_mae: 221.4379 - lr: 2.5000e-04\n",
      "Epoch 24/500\n",
      "140/140 [==============================] - 1s 5ms/step - loss: 0.9992 - mae: 256.4404 - val_loss: 0.6816 - val_mae: 281.3445 - lr: 2.5000e-04\n",
      "Epoch 25/500\n",
      "140/140 [==============================] - 1s 5ms/step - loss: 1.0218 - mae: 263.8317 - val_loss: 0.5249 - val_mae: 216.3457 - lr: 2.5000e-04\n",
      "Epoch 26/500\n",
      "140/140 [==============================] - 1s 5ms/step - loss: 1.0044 - mae: 257.5042 - val_loss: 0.5068 - val_mae: 208.7190 - lr: 2.5000e-04\n",
      "Epoch 27/500\n",
      "140/140 [==============================] - 1s 5ms/step - loss: 0.9994 - mae: 256.2844 - val_loss: 0.6200 - val_mae: 255.7936 - lr: 2.5000e-04\n",
      "Epoch 28/500\n",
      "140/140 [==============================] - 1s 5ms/step - loss: 1.0105 - mae: 259.6910 - val_loss: 0.5012 - val_mae: 206.4914 - lr: 2.5000e-04\n",
      "Epoch 29/500\n",
      "140/140 [==============================] - 1s 5ms/step - loss: 0.9754 - mae: 248.4169 - val_loss: 0.6478 - val_mae: 268.2422 - lr: 2.5000e-04\n",
      "Epoch 30/500\n",
      "140/140 [==============================] - 1s 5ms/step - loss: 1.0035 - mae: 257.0917 - val_loss: 0.6785 - val_mae: 280.2210 - lr: 2.5000e-04\n",
      "Epoch 31/500\n",
      "140/140 [==============================] - 1s 5ms/step - loss: 0.9969 - mae: 255.4051 - val_loss: 0.5942 - val_mae: 245.1400 - lr: 2.5000e-04\n",
      "Epoch 32/500\n",
      "140/140 [==============================] - 1s 5ms/step - loss: 1.0126 - mae: 259.7880 - val_loss: 0.6921 - val_mae: 285.8252 - lr: 2.5000e-04\n",
      "Epoch 33/500\n",
      "140/140 [==============================] - 1s 5ms/step - loss: 1.0013 - mae: 257.1646 - val_loss: 0.4965 - val_mae: 204.5806 - lr: 2.5000e-04\n",
      "Epoch 34/500\n",
      "140/140 [==============================] - 1s 5ms/step - loss: 0.9956 - mae: 254.9188 - val_loss: 0.5003 - val_mae: 206.1358 - lr: 2.5000e-04\n",
      "Epoch 35/500\n",
      "140/140 [==============================] - 1s 6ms/step - loss: 0.9879 - mae: 251.2944 - val_loss: 0.8072 - val_mae: 335.1192 - lr: 2.5000e-04\n",
      "Epoch 36/500\n",
      "140/140 [==============================] - 1s 5ms/step - loss: 1.0080 - mae: 258.1430 - val_loss: 0.5011 - val_mae: 206.7785 - lr: 2.5000e-04\n",
      "Epoch 37/500\n",
      "140/140 [==============================] - 1s 5ms/step - loss: 0.9913 - mae: 252.4018 - val_loss: 0.4805 - val_mae: 198.0676 - lr: 2.5000e-04\n",
      "Epoch 38/500\n",
      "140/140 [==============================] - 1s 5ms/step - loss: 0.9861 - mae: 251.2834 - val_loss: 0.4764 - val_mae: 196.3221 - lr: 2.5000e-04\n",
      "Epoch 39/500\n",
      "140/140 [==============================] - 1s 5ms/step - loss: 0.9835 - mae: 250.7076 - val_loss: 0.4757 - val_mae: 196.0543 - lr: 2.5000e-04\n",
      "Epoch 40/500\n",
      "140/140 [==============================] - 1s 5ms/step - loss: 0.9840 - mae: 250.3497 - val_loss: 0.6187 - val_mae: 256.2884 - lr: 2.5000e-04\n",
      "Epoch 41/500\n",
      "140/140 [==============================] - 1s 5ms/step - loss: 0.9666 - mae: 245.0903 - val_loss: 0.5232 - val_mae: 216.2275 - lr: 2.5000e-04\n",
      "Epoch 42/500\n",
      "140/140 [==============================] - 1s 6ms/step - loss: 0.9820 - mae: 249.4723 - val_loss: 0.6266 - val_mae: 258.6988 - lr: 2.5000e-04\n",
      "Epoch 43/500\n",
      "140/140 [==============================] - 1s 6ms/step - loss: 0.9732 - mae: 246.9292 - val_loss: 0.5063 - val_mae: 208.7115 - lr: 2.5000e-04\n",
      "Epoch 44/500\n",
      "140/140 [==============================] - 1s 6ms/step - loss: 0.9792 - mae: 249.5671 - val_loss: 0.5562 - val_mae: 229.4297 - lr: 2.5000e-04\n",
      "Epoch 45/500\n",
      "140/140 [==============================] - 1s 5ms/step - loss: 0.9400 - mae: 236.4056 - val_loss: 0.5160 - val_mae: 213.2752 - lr: 1.2500e-04\n",
      "Epoch 46/500\n",
      "140/140 [==============================] - 1s 5ms/step - loss: 0.9371 - mae: 236.1625 - val_loss: 0.5278 - val_mae: 218.2170 - lr: 1.2500e-04\n",
      "Epoch 47/500\n",
      "140/140 [==============================] - 1s 7ms/step - loss: 0.9515 - mae: 240.9148 - val_loss: 0.4943 - val_mae: 203.7623 - lr: 1.2500e-04\n",
      "Epoch 48/500\n",
      "140/140 [==============================] - 1s 6ms/step - loss: 0.9427 - mae: 237.4846 - val_loss: 0.6051 - val_mae: 249.8370 - lr: 1.2500e-04\n",
      "Epoch 49/500\n",
      "140/140 [==============================] - 1s 6ms/step - loss: 0.9448 - mae: 238.2840 - val_loss: 0.4617 - val_mae: 190.3142 - lr: 1.2500e-04\n",
      "Epoch 50/500\n",
      "140/140 [==============================] - 1s 6ms/step - loss: 0.9536 - mae: 241.1389 - val_loss: 0.5518 - val_mae: 228.3080 - lr: 1.2500e-04\n",
      "Epoch 51/500\n",
      "140/140 [==============================] - 1s 6ms/step - loss: 0.9417 - mae: 236.8514 - val_loss: 0.6179 - val_mae: 255.1537 - lr: 1.2500e-04\n",
      "Epoch 52/500\n",
      "140/140 [==============================] - 1s 6ms/step - loss: 0.9369 - mae: 236.0654 - val_loss: 0.4570 - val_mae: 188.4268 - lr: 1.2500e-04\n",
      "Epoch 53/500\n",
      "140/140 [==============================] - 1s 6ms/step - loss: 0.9458 - mae: 239.0897 - val_loss: 0.4938 - val_mae: 203.5904 - lr: 1.2500e-04\n",
      "Epoch 54/500\n",
      "140/140 [==============================] - 1s 6ms/step - loss: 0.9349 - mae: 234.4164 - val_loss: 0.4741 - val_mae: 195.6628 - lr: 1.2500e-04\n",
      "Epoch 55/500\n",
      "140/140 [==============================] - 1s 6ms/step - loss: 0.9610 - mae: 243.3121 - val_loss: 0.5086 - val_mae: 210.1808 - lr: 1.2500e-04\n",
      "Epoch 56/500\n",
      "140/140 [==============================] - 1s 7ms/step - loss: 0.9364 - mae: 235.4712 - val_loss: 0.4564 - val_mae: 188.1349 - lr: 1.2500e-04\n",
      "Epoch 57/500\n",
      "140/140 [==============================] - 1s 5ms/step - loss: 0.9271 - mae: 232.6070 - val_loss: 0.5089 - val_mae: 210.3524 - lr: 1.2500e-04\n",
      "Epoch 58/500\n",
      "140/140 [==============================] - 1s 6ms/step - loss: 0.9449 - mae: 237.9877 - val_loss: 0.4642 - val_mae: 191.3564 - lr: 1.2500e-04\n",
      "Epoch 59/500\n",
      "140/140 [==============================] - 1s 6ms/step - loss: 0.9172 - mae: 230.0261 - val_loss: 0.4647 - val_mae: 191.5746 - lr: 1.2500e-04\n",
      "Epoch 60/500\n",
      "140/140 [==============================] - 1s 6ms/step - loss: 0.9388 - mae: 236.6665 - val_loss: 0.4586 - val_mae: 189.1722 - lr: 1.2500e-04\n",
      "Epoch 61/500\n",
      "140/140 [==============================] - 1s 6ms/step - loss: 0.9343 - mae: 235.3319 - val_loss: 0.5005 - val_mae: 206.8949 - lr: 1.2500e-04\n",
      "Epoch 62/500\n",
      "140/140 [==============================] - 1s 6ms/step - loss: 0.9382 - mae: 236.1882 - val_loss: 0.5644 - val_mae: 233.6293 - lr: 1.0000e-04\n",
      "Epoch 63/500\n",
      "140/140 [==============================] - 1s 6ms/step - loss: 0.9345 - mae: 235.2825 - val_loss: 0.4648 - val_mae: 191.6001 - lr: 1.0000e-04\n",
      "Epoch 64/500\n",
      "140/140 [==============================] - 1s 6ms/step - loss: 0.9284 - mae: 233.0602 - val_loss: 0.4940 - val_mae: 203.7385 - lr: 1.0000e-04\n",
      "Epoch 65/500\n",
      "140/140 [==============================] - 1s 5ms/step - loss: 0.9258 - mae: 232.5439 - val_loss: 0.6047 - val_mae: 249.7622 - lr: 1.0000e-04\n",
      "Epoch 66/500\n",
      "140/140 [==============================] - 1s 6ms/step - loss: 0.9275 - mae: 233.1751 - val_loss: 0.4621 - val_mae: 190.5064 - lr: 1.0000e-04\n",
      "Epoch 66: early stopping\n"
     ]
    }
   ],
   "source": [
    "# tsp = TimeSeriesSplit(n_splits=10)\n",
    "# for fold, (train_idx,valid_idx) in enumerate(tsp.split(x_train,y_train)):\n",
    "#     print(f'Fold:{fold}')\n",
    "#     X_train, X_valid = x_train[train_idx], x_train[valid_idx]\n",
    "#     Y_train, Y_valid = y_train[train_idx], y_train[valid_idx]\n",
    "    \n",
    "history = model.fit(X_train,Y_train,batch_size=128,epochs=500,\n",
    "              validation_data=(X_valid,Y_valid),callbacks=[callback,earlystopping,scheduler])"
   ]
  },
  {
   "cell_type": "code",
   "execution_count": 18,
   "metadata": {},
   "outputs": [
    {
     "data": {
      "image/png": "[encoded data removed]",
      "text/plain": [
       "<Figure size 432x288 with 1 Axes>"
      ]
     },
     "metadata": {
      "needs_background": "light"
     },
     "output_type": "display_data"
    }
   ],
   "source": [
    "plt.title('Loss')\n",
    "plt.plot(model.history.history['val_loss'],label='valid loss')\n",
    "plt.plot(model.history.history['loss'],label='train loss')\n",
    "plt.legend()\n",
    "plt.show()\n",
    "\n",
    "#plt.savefig('DNN_fig01.png',format='png',dpi=300)"
   ]
  },
  {
   "cell_type": "code",
   "execution_count": 19,
   "metadata": {},
   "outputs": [],
   "source": [
    "model.load_weights('model.h5')\n",
    "\n",
    "pred = model.predict(x_test)\n",
    "\n",
    "result = pd.DataFrame(index=test.index[48:])\n",
    "result.reset_index(inplace=True)\n",
    "\n",
    "result['pred'] = pred\n",
    "result['y'] = y_test\n",
    "\n",
    "result.drop('index',axis=1,inplace=True)"
   ]
  },
  {
   "cell_type": "code",
   "execution_count": 20,
   "metadata": {},
   "outputs": [
    {
     "data": {
      "image/png": "[encoded data removed]",
      "text/plain": [
       "<Figure size 432x288 with 1 Axes>"
      ]
     },
     "metadata": {
      "needs_background": "light"
     },
     "output_type": "display_data"
    }
   ],
   "source": [
    "plt.title('BTC')\n",
    "plt.plot(result.pred,label='prediction')\n",
    "plt.plot(result.y,label='actual')\n",
    "plt.legend()\n",
    "plt.show()\n",
    "\n",
    "#plt.savefig('DNN_fig02.png',format='png',dpi=300)"
   ]
  },
  {
   "cell_type": "code",
   "execution_count": 21,
   "metadata": {},
   "outputs": [
    {
     "data": {
      "image/png": "[encoded data removed]",
      "text/plain": [
       "<Figure size 432x288 with 1 Axes>"
      ]
     },
     "metadata": {
      "needs_background": "light"
     },
     "output_type": "display_data"
    }
   ],
   "source": [
    "plt.title('BTC')\n",
    "plt.plot(result.pred,label='prediction')\n",
    "plt.plot(result.y,label='actual')\n",
    "\n",
    "shift = result.pred.shift(-1).values\n",
    "plt.plot(shift,label=\"shiftin'\")\n",
    "\n",
    "plt.legend()\n",
    "plt.show()\n",
    "\n",
    "#plt.savefig('DNN_fig03.png',format='png',dpi=300)"
   ]
  },
  {
   "cell_type": "code",
   "execution_count": 22,
   "metadata": {},
   "outputs": [
    {
     "data": {
      "text/plain": [
       "231.23"
      ]
     },
     "execution_count": 22,
     "metadata": {},
     "output_type": "execute_result"
    }
   ],
   "source": [
    "# RMSE\n",
    "\n",
    "from sklearn.metrics import mean_squared_error \n",
    "\n",
    "MSE = mean_squared_error(y_test, pred) \n",
    "RMSE = np.sqrt(MSE)\n",
    "round(RMSE,2)"
   ]
  },
  {
   "cell_type": "code",
   "execution_count": 23,
   "metadata": {},
   "outputs": [
    {
     "data": {
      "text/plain": [
       "47.76"
      ]
     },
     "execution_count": 23,
     "metadata": {},
     "output_type": "execute_result"
    }
   ],
   "source": [
    "# MAPE\n",
    "\n",
    "def MAPE(y_test, pred):\n",
    "    return np.mean(np.abs((y_test - pred) / y_test)) * 100 \n",
    "    \n",
    "round(MAPE(y_test, pred)*100,2)"
   ]
  },
  {
   "cell_type": "markdown",
   "metadata": {},
   "source": [
    "# S&P500"
   ]
  },
  {
   "cell_type": "code",
   "execution_count": 2,
   "metadata": {},
   "outputs": [],
   "source": [
    "import yfinance as yf\n",
    "import datetime"
   ]
  },
  {
   "cell_type": "code",
   "execution_count": 3,
   "metadata": {},
   "outputs": [],
   "source": [
    "tickers = ['^GSPC', '^IXIC','^KS200', '^N225', '^GDAXI']\n",
    "\n",
    "hourly_signal = {}\n",
    "daily_signal = {}\n",
    "\n",
    "for ticker in tickers:\n",
    "\n",
    "    net = yf.Ticker(ticker)\n",
    "\n",
    "    now = datetime.datetime.now()\n",
    "    substract_days = datetime.timedelta(days=500)\n",
    "    n_days_ago = now - substract_days    \n",
    "    pred_start = pd.to_datetime(n_days_ago)\n",
    "    pred_end = pd.to_datetime(now)\n",
    "\n",
    "    start_date, end_date = pred_start, pred_end\n",
    "    daily_signals_df = net.history(start=start_date, end=end_date, interval='1d', back_adjust=True, auto_adjust=True, prepost=False)\n",
    "    hourly_signals_df = net.history(start=start_date, end=end_date, interval='1h', back_adjust=True, auto_adjust=True, prepost=True)\n",
    "    \n",
    "    daily_signal[ticker] = daily_signals_df['Close']\n",
    "    hourly_signal[ticker] = hourly_signals_df['Close']"
   ]
  },
  {
   "cell_type": "code",
   "execution_count": 4,
   "metadata": {},
   "outputs": [
    {
     "data": {
      "text/html": [
       "<div>\n",
       "<style scoped>\n",
       "    .dataframe tbody tr th:only-of-type {\n",
       "        vertical-align: middle;\n",
       "    }\n",
       "\n",
       "    .dataframe tbody tr th {\n",
       "        vertical-align: top;\n",
       "    }\n",
       "\n",
       "    .dataframe thead th {\n",
       "        text-align: right;\n",
       "    }\n",
       "</style>\n",
       "<table border=\"1\" class=\"dataframe\">\n",
       "  <thead>\n",
       "    <tr style=\"text-align: right;\">\n",
       "      <th></th>\n",
       "      <th>Close</th>\n",
       "    </tr>\n",
       "  </thead>\n",
       "  <tbody>\n",
       "    <tr>\n",
       "      <th>2021-01-11 09:30:00-05:00</th>\n",
       "      <td>3808.939941</td>\n",
       "    </tr>\n",
       "    <tr>\n",
       "      <th>2021-01-11 10:30:00-05:00</th>\n",
       "      <td>3811.350098</td>\n",
       "    </tr>\n",
       "    <tr>\n",
       "      <th>2021-01-11 11:30:00-05:00</th>\n",
       "      <td>3811.800049</td>\n",
       "    </tr>\n",
       "    <tr>\n",
       "      <th>2021-01-11 12:30:00-05:00</th>\n",
       "      <td>3810.030029</td>\n",
       "    </tr>\n",
       "    <tr>\n",
       "      <th>2021-01-11 13:30:00-05:00</th>\n",
       "      <td>3799.010010</td>\n",
       "    </tr>\n",
       "    <tr>\n",
       "      <th>...</th>\n",
       "      <td>...</td>\n",
       "    </tr>\n",
       "    <tr>\n",
       "      <th>2022-05-25 13:30:00-04:00</th>\n",
       "      <td>3973.350098</td>\n",
       "    </tr>\n",
       "    <tr>\n",
       "      <th>2022-05-25 14:30:00-04:00</th>\n",
       "      <td>3990.260010</td>\n",
       "    </tr>\n",
       "    <tr>\n",
       "      <th>2022-05-25 15:30:00-04:00</th>\n",
       "      <td>3978.500000</td>\n",
       "    </tr>\n",
       "    <tr>\n",
       "      <th>2022-05-25 16:00:00-04:00</th>\n",
       "      <td>3978.730000</td>\n",
       "    </tr>\n",
       "    <tr>\n",
       "      <th>2022-05-25 17:00:00-04:00</th>\n",
       "      <td>3978.730000</td>\n",
       "    </tr>\n",
       "  </tbody>\n",
       "</table>\n",
       "<p>3066 rows × 1 columns</p>\n",
       "</div>"
      ],
      "text/plain": [
       "                                 Close\n",
       "2021-01-11 09:30:00-05:00  3808.939941\n",
       "2021-01-11 10:30:00-05:00  3811.350098\n",
       "2021-01-11 11:30:00-05:00  3811.800049\n",
       "2021-01-11 12:30:00-05:00  3810.030029\n",
       "2021-01-11 13:30:00-05:00  3799.010010\n",
       "...                                ...\n",
       "2022-05-25 13:30:00-04:00  3973.350098\n",
       "2022-05-25 14:30:00-04:00  3990.260010\n",
       "2022-05-25 15:30:00-04:00  3978.500000\n",
       "2022-05-25 16:00:00-04:00  3978.730000\n",
       "2022-05-25 17:00:00-04:00  3978.730000\n",
       "\n",
       "[3066 rows x 1 columns]"
      ]
     },
     "execution_count": 4,
     "metadata": {},
     "output_type": "execute_result"
    }
   ],
   "source": [
    "def get_df (name = '^GSPC'):\n",
    "    df = pd.DataFrame(hourly_signal[name])\n",
    "    df.columns = ['Close']\n",
    "    df = df.dropna()\n",
    "    return df\n",
    "\n",
    "tickers = ['^GSPC', '^IXIC','^KS200', '^N225', '^GDAXI']\n",
    "\n",
    "df_list = []\n",
    "for ticker in tickers:\n",
    "    df = get_df(ticker)\n",
    "    df_list.append(df)\n",
    "\n",
    "SP500 = df_list[0]\n",
    "NASDAQ = df_list[1]\n",
    "KS200 = df_list[2]\n",
    "NI = df_list[3]\n",
    "DAX = df_list[4]\n",
    "\n",
    "SP500"
   ]
  },
  {
   "cell_type": "code",
   "execution_count": 5,
   "metadata": {},
   "outputs": [
    {
     "name": "stdout",
     "output_type": "stream",
     "text": [
      "SP500 : (3066, 1)\n",
      "NASDAQ : (3121, 1)\n",
      "KS200 : (2359, 1)\n",
      "NI : (2004, 1)\n",
      "DAX : (3508, 1)\n"
     ]
    }
   ],
   "source": [
    "IDX_list = [SP500, NASDAQ, KS200, NI, DAX]\n",
    "name_list = ['SP500', 'NASDAQ', 'KS200', 'NI', 'DAX']\n",
    "\n",
    "for idx, name in zip (IDX_list, name_list):\n",
    "    print(name +' : ' + str(idx.shape))"
   ]
  },
  {
   "cell_type": "code",
   "execution_count": 6,
   "metadata": {},
   "outputs": [
    {
     "data": {
      "text/html": [
       "<div>\n",
       "<style scoped>\n",
       "    .dataframe tbody tr th:only-of-type {\n",
       "        vertical-align: middle;\n",
       "    }\n",
       "\n",
       "    .dataframe tbody tr th {\n",
       "        vertical-align: top;\n",
       "    }\n",
       "\n",
       "    .dataframe thead th {\n",
       "        text-align: right;\n",
       "    }\n",
       "</style>\n",
       "<table border=\"1\" class=\"dataframe\">\n",
       "  <thead>\n",
       "    <tr style=\"text-align: right;\">\n",
       "      <th></th>\n",
       "      <th>Close</th>\n",
       "    </tr>\n",
       "    <tr>\n",
       "      <th>Date</th>\n",
       "      <th></th>\n",
       "    </tr>\n",
       "  </thead>\n",
       "  <tbody>\n",
       "    <tr>\n",
       "      <th>2021-01-11 09:30:00-05:00</th>\n",
       "      <td>3808.939941</td>\n",
       "    </tr>\n",
       "    <tr>\n",
       "      <th>2021-01-11 10:30:00-05:00</th>\n",
       "      <td>3811.350098</td>\n",
       "    </tr>\n",
       "    <tr>\n",
       "      <th>2021-01-11 11:30:00-05:00</th>\n",
       "      <td>3811.800049</td>\n",
       "    </tr>\n",
       "    <tr>\n",
       "      <th>2021-01-11 12:30:00-05:00</th>\n",
       "      <td>3810.030029</td>\n",
       "    </tr>\n",
       "    <tr>\n",
       "      <th>2021-01-11 13:30:00-05:00</th>\n",
       "      <td>3799.010010</td>\n",
       "    </tr>\n",
       "    <tr>\n",
       "      <th>...</th>\n",
       "      <td>...</td>\n",
       "    </tr>\n",
       "    <tr>\n",
       "      <th>2022-05-24 12:30:00-04:00</th>\n",
       "      <td>3904.800049</td>\n",
       "    </tr>\n",
       "    <tr>\n",
       "      <th>2022-05-24 13:30:00-04:00</th>\n",
       "      <td>3925.340088</td>\n",
       "    </tr>\n",
       "    <tr>\n",
       "      <th>2022-05-24 14:30:00-04:00</th>\n",
       "      <td>3931.239990</td>\n",
       "    </tr>\n",
       "    <tr>\n",
       "      <th>2022-05-24 15:30:00-04:00</th>\n",
       "      <td>3943.800049</td>\n",
       "    </tr>\n",
       "    <tr>\n",
       "      <th>2022-05-24 16:00:00-04:00</th>\n",
       "      <td>3941.480000</td>\n",
       "    </tr>\n",
       "  </tbody>\n",
       "</table>\n",
       "<p>2765 rows × 1 columns</p>\n",
       "</div>"
      ],
      "text/plain": [
       "                                 Close\n",
       "Date                                  \n",
       "2021-01-11 09:30:00-05:00  3808.939941\n",
       "2021-01-11 10:30:00-05:00  3811.350098\n",
       "2021-01-11 11:30:00-05:00  3811.800049\n",
       "2021-01-11 12:30:00-05:00  3810.030029\n",
       "2021-01-11 13:30:00-05:00  3799.010010\n",
       "...                                ...\n",
       "2022-05-24 12:30:00-04:00  3904.800049\n",
       "2022-05-24 13:30:00-04:00  3925.340088\n",
       "2022-05-24 14:30:00-04:00  3931.239990\n",
       "2022-05-24 15:30:00-04:00  3943.800049\n",
       "2022-05-24 16:00:00-04:00  3941.480000\n",
       "\n",
       "[2765 rows x 1 columns]"
      ]
     },
     "execution_count": 6,
     "metadata": {},
     "output_type": "execute_result"
    }
   ],
   "source": [
    "SP500_cp=SP500.copy()\n",
    "SP500_cp.index.name=\"Date\"\n",
    "\n",
    "df=SP500_cp\n",
    "df=df[(pd.DatetimeIndex(df.index)<'2022-05-25')&(pd.DatetimeIndex(df.index)>'2021-01-10')&(pd.DatetimeIndex(df.index).hour<17)]\n",
    "df"
   ]
  },
  {
   "cell_type": "code",
   "execution_count": 7,
   "metadata": {},
   "outputs": [
    {
     "name": "stdout",
     "output_type": "stream",
     "text": [
      "(2741, 1) (24, 1)\n"
     ]
    }
   ],
   "source": [
    "train = df.iloc[:-24]\n",
    "test = df.iloc[-24:]\n",
    "print(train.shape,test.shape)"
   ]
  },
  {
   "cell_type": "code",
   "execution_count": 8,
   "metadata": {},
   "outputs": [
    {
     "name": "stdout",
     "output_type": "stream",
     "text": [
      "(2733, 1) (2733, 1)\n"
     ]
    }
   ],
   "source": [
    "x_train = train[:-8]\n",
    "y_train = train[8:]\n",
    "print(x_train.shape,y_train.shape)"
   ]
  },
  {
   "cell_type": "code",
   "execution_count": 9,
   "metadata": {},
   "outputs": [
    {
     "name": "stdout",
     "output_type": "stream",
     "text": [
      "(16, 1) (16, 1)\n"
     ]
    }
   ],
   "source": [
    "x_test = test[:-8]\n",
    "y_test = test[8:]\n",
    "print(x_test.shape,y_test.shape)"
   ]
  },
  {
   "cell_type": "code",
   "execution_count": 10,
   "metadata": {},
   "outputs": [],
   "source": [
    "def windowDataset(data,label,window_size=8):\n",
    "    feature_list = []\n",
    "    label_list = []\n",
    "    for i in range(len(data) - window_size):\n",
    "        feature_list.append(np.array(data[i:i+window_size]))\n",
    "        label_list.append(np.array(label.iloc[i]))\n",
    "    return np.array(feature_list), np.array(label_list)"
   ]
  },
  {
   "cell_type": "code",
   "execution_count": 11,
   "metadata": {},
   "outputs": [
    {
     "name": "stdout",
     "output_type": "stream",
     "text": [
      "(2725, 8, 1) (2725, 1)\n"
     ]
    }
   ],
   "source": [
    "x_train,y_train = windowDataset(x_train,y_train)\n",
    "print(x_train.shape,y_train.shape)"
   ]
  },
  {
   "cell_type": "code",
   "execution_count": 12,
   "metadata": {},
   "outputs": [
    {
     "name": "stdout",
     "output_type": "stream",
     "text": [
      "(8, 8, 1) (8, 1)\n"
     ]
    }
   ],
   "source": [
    "x_test,y_test = windowDataset(x_test,y_test)\n",
    "print(x_test.shape,y_test.shape)"
   ]
  },
  {
   "cell_type": "code",
   "execution_count": 13,
   "metadata": {},
   "outputs": [
    {
     "data": {
      "text/plain": [
       "(2725, 8)"
      ]
     },
     "execution_count": 13,
     "metadata": {},
     "output_type": "execute_result"
    }
   ],
   "source": [
    "x_train = x_train.reshape(x_train.shape[0],x_train.shape[1])\n",
    "x_train.shape"
   ]
  },
  {
   "cell_type": "code",
   "execution_count": 14,
   "metadata": {},
   "outputs": [],
   "source": [
    "x_test = x_test.reshape(x_test.shape[0],x_test.shape[1])"
   ]
  },
  {
   "cell_type": "code",
   "execution_count": 15,
   "metadata": {},
   "outputs": [],
   "source": [
    "import tensorflow as tf\n",
    "from sklearn.model_selection import TimeSeriesSplit,train_test_split\n",
    "from tensorflow.keras.layers import Dense,BatchNormalization,Dropout\n",
    "from tensorflow.keras.models import Sequential\n",
    "from tensorflow.keras.callbacks import EarlyStopping,ModelCheckpoint,ReduceLROnPlateau\n",
    "\n",
    "from sklearn.preprocessing import RobustScaler\n",
    "\n",
    "import warnings\n",
    "warnings.filterwarnings(action='ignore')"
   ]
  },
  {
   "cell_type": "code",
   "execution_count": 16,
   "metadata": {},
   "outputs": [],
   "source": [
    "model = keras.models.Sequential([\n",
    "    Dense(256,activation='swish',kernel_initializer='random_normal'),\n",
    "    Dense(128,activation='swish'),\n",
    "    Dense(64,activation='swish'),\n",
    "    Dense(32,activation='swish'),\n",
    "    Dense(16,activation='swish'),\n",
    "    Dense(1)\n",
    "])"
   ]
  },
  {
   "cell_type": "code",
   "execution_count": 17,
   "metadata": {},
   "outputs": [],
   "source": [
    "X_train, X_valid, Y_train, Y_valid = train_test_split(x_train,y_train,test_size=0.1,shuffle=False)"
   ]
  },
  {
   "cell_type": "code",
   "execution_count": 18,
   "metadata": {},
   "outputs": [],
   "source": [
    "model.compile(\n",
    "    optimizer=tf.keras.optimizers.Adamax(lr=1e-3),\n",
    "    loss=tf.keras.losses.MeanAbsolutePercentageError(), \n",
    "    metrics=['mae']\n",
    ")\n",
    "callback = ModelCheckpoint('model.h5')\n",
    "earlystopping = EarlyStopping(patience=10,verbose=1)\n",
    "scheduler = ReduceLROnPlateau(patience=5,factor=0.5,cooldown=0,min_lr=1e-4)"
   ]
  },
  {
   "cell_type": "code",
   "execution_count": 19,
   "metadata": {},
   "outputs": [
    {
     "name": "stdout",
     "output_type": "stream",
     "text": [
      "Epoch 1/500\n",
      "491/491 [==============================] - 2s 3ms/step - loss: 3.8392 - mae: 165.2548 - val_loss: 1.2949 - val_mae: 54.9102 - lr: 0.0010\n",
      "Epoch 2/500\n",
      "491/491 [==============================] - 1s 2ms/step - loss: 1.2492 - mae: 54.0402 - val_loss: 1.2146 - val_mae: 52.0699 - lr: 0.0010\n",
      "Epoch 3/500\n",
      "491/491 [==============================] - 1s 2ms/step - loss: 1.0808 - mae: 46.7105 - val_loss: 0.8729 - val_mae: 37.1619 - lr: 0.0010\n",
      "Epoch 4/500\n",
      "491/491 [==============================] - 1s 2ms/step - loss: 1.0789 - mae: 46.6789 - val_loss: 1.0663 - val_mae: 45.6588 - lr: 0.0010\n",
      "Epoch 5/500\n",
      "491/491 [==============================] - 1s 3ms/step - loss: 1.0392 - mae: 44.8491 - val_loss: 0.7772 - val_mae: 32.7884 - lr: 0.0010\n",
      "Epoch 6/500\n",
      "491/491 [==============================] - 1s 2ms/step - loss: 1.0363 - mae: 44.7514 - val_loss: 1.4006 - val_mae: 59.4581 - lr: 0.0010\n",
      "Epoch 7/500\n",
      "491/491 [==============================] - 1s 2ms/step - loss: 1.2561 - mae: 54.2177 - val_loss: 2.3880 - val_mae: 101.7218 - lr: 0.0010\n",
      "Epoch 8/500\n",
      "491/491 [==============================] - 1s 2ms/step - loss: 1.1600 - mae: 50.0893 - val_loss: 0.7635 - val_mae: 32.3429 - lr: 0.0010\n",
      "Epoch 9/500\n",
      "491/491 [==============================] - 1s 2ms/step - loss: 0.8158 - mae: 35.1950 - val_loss: 1.2174 - val_mae: 51.6316 - lr: 0.0010\n",
      "Epoch 10/500\n",
      "491/491 [==============================] - 1s 2ms/step - loss: 0.8859 - mae: 38.2570 - val_loss: 0.7947 - val_mae: 33.7705 - lr: 0.0010\n",
      "Epoch 11/500\n",
      "491/491 [==============================] - 1s 2ms/step - loss: 0.9692 - mae: 41.8439 - val_loss: 0.7328 - val_mae: 30.9298 - lr: 0.0010\n",
      "Epoch 12/500\n",
      "491/491 [==============================] - 1s 2ms/step - loss: 0.8610 - mae: 37.2227 - val_loss: 0.8460 - val_mae: 36.0530 - lr: 0.0010\n",
      "Epoch 13/500\n",
      "491/491 [==============================] - 1s 2ms/step - loss: 0.8763 - mae: 37.8260 - val_loss: 1.1417 - val_mae: 48.9349 - lr: 0.0010\n",
      "Epoch 14/500\n",
      "491/491 [==============================] - 1s 2ms/step - loss: 0.9760 - mae: 42.1166 - val_loss: 2.2077 - val_mae: 94.0283 - lr: 0.0010\n",
      "Epoch 15/500\n",
      "491/491 [==============================] - 1s 3ms/step - loss: 1.0233 - mae: 44.2305 - val_loss: 0.7750 - val_mae: 32.9153 - lr: 0.0010\n",
      "Epoch 16/500\n",
      "491/491 [==============================] - 1s 2ms/step - loss: 0.8611 - mae: 37.2179 - val_loss: 0.8683 - val_mae: 37.0542 - lr: 0.0010\n",
      "Epoch 17/500\n",
      "491/491 [==============================] - 1s 3ms/step - loss: 0.6355 - mae: 27.4096 - val_loss: 0.7913 - val_mae: 33.3886 - lr: 5.0000e-04\n",
      "Epoch 18/500\n",
      "491/491 [==============================] - 1s 2ms/step - loss: 0.6183 - mae: 26.6699 - val_loss: 0.7137 - val_mae: 30.1354 - lr: 5.0000e-04\n",
      "Epoch 19/500\n",
      "491/491 [==============================] - 1s 3ms/step - loss: 0.6244 - mae: 26.9272 - val_loss: 0.9070 - val_mae: 38.7625 - lr: 5.0000e-04\n",
      "Epoch 20/500\n",
      "491/491 [==============================] - 1s 2ms/step - loss: 0.5905 - mae: 25.4862 - val_loss: 0.8987 - val_mae: 37.9724 - lr: 5.0000e-04\n",
      "Epoch 21/500\n",
      "491/491 [==============================] - 1s 2ms/step - loss: 0.5790 - mae: 24.9905 - val_loss: 0.8407 - val_mae: 35.4895 - lr: 5.0000e-04\n",
      "Epoch 22/500\n",
      "491/491 [==============================] - 1s 2ms/step - loss: 0.6109 - mae: 26.3302 - val_loss: 0.9073 - val_mae: 38.3490 - lr: 5.0000e-04\n",
      "Epoch 23/500\n",
      "491/491 [==============================] - 1s 2ms/step - loss: 0.5843 - mae: 25.2139 - val_loss: 1.1732 - val_mae: 49.7661 - lr: 5.0000e-04\n",
      "Epoch 24/500\n",
      "491/491 [==============================] - 2s 3ms/step - loss: 0.5195 - mae: 22.3739 - val_loss: 0.8201 - val_mae: 34.6154 - lr: 2.5000e-04\n",
      "Epoch 25/500\n",
      "491/491 [==============================] - 1s 2ms/step - loss: 0.4742 - mae: 20.4263 - val_loss: 0.6986 - val_mae: 29.5106 - lr: 2.5000e-04\n",
      "Epoch 26/500\n",
      "491/491 [==============================] - 1s 3ms/step - loss: 0.4728 - mae: 20.3902 - val_loss: 0.7349 - val_mae: 31.1847 - lr: 2.5000e-04\n",
      "Epoch 27/500\n",
      "491/491 [==============================] - 1s 2ms/step - loss: 0.4707 - mae: 20.2974 - val_loss: 0.6960 - val_mae: 29.4221 - lr: 2.5000e-04\n",
      "Epoch 28/500\n",
      "491/491 [==============================] - 1s 2ms/step - loss: 0.4608 - mae: 19.8566 - val_loss: 0.7040 - val_mae: 29.7057 - lr: 2.5000e-04\n",
      "Epoch 29/500\n",
      "491/491 [==============================] - 1s 2ms/step - loss: 0.5146 - mae: 22.2025 - val_loss: 0.7912 - val_mae: 33.6931 - lr: 2.5000e-04\n",
      "Epoch 30/500\n",
      "491/491 [==============================] - 1s 2ms/step - loss: 0.4897 - mae: 21.1135 - val_loss: 0.7470 - val_mae: 31.5133 - lr: 2.5000e-04\n",
      "Epoch 31/500\n",
      "491/491 [==============================] - 1s 2ms/step - loss: 0.4663 - mae: 20.1087 - val_loss: 0.6874 - val_mae: 29.0454 - lr: 2.5000e-04\n",
      "Epoch 32/500\n",
      "491/491 [==============================] - 1s 2ms/step - loss: 0.4755 - mae: 20.5048 - val_loss: 0.6891 - val_mae: 29.0857 - lr: 2.5000e-04\n",
      "Epoch 33/500\n",
      "491/491 [==============================] - 1s 2ms/step - loss: 0.4745 - mae: 20.4359 - val_loss: 0.6850 - val_mae: 28.9167 - lr: 2.5000e-04\n",
      "Epoch 34/500\n",
      "491/491 [==============================] - 1s 2ms/step - loss: 0.4760 - mae: 20.5258 - val_loss: 0.7107 - val_mae: 29.9817 - lr: 2.5000e-04\n",
      "Epoch 35/500\n",
      "491/491 [==============================] - 1s 2ms/step - loss: 0.5138 - mae: 22.1579 - val_loss: 1.0397 - val_mae: 44.0606 - lr: 2.5000e-04\n",
      "Epoch 36/500\n",
      "491/491 [==============================] - 1s 2ms/step - loss: 0.4656 - mae: 20.0962 - val_loss: 0.7502 - val_mae: 31.6509 - lr: 2.5000e-04\n",
      "Epoch 37/500\n",
      "491/491 [==============================] - 1s 2ms/step - loss: 0.4928 - mae: 21.2570 - val_loss: 0.9604 - val_mae: 40.6545 - lr: 2.5000e-04\n",
      "Epoch 38/500\n",
      "491/491 [==============================] - 1s 3ms/step - loss: 0.4749 - mae: 20.4646 - val_loss: 0.6790 - val_mae: 28.6568 - lr: 2.5000e-04\n",
      "Epoch 39/500\n",
      "491/491 [==============================] - 1s 2ms/step - loss: 0.5129 - mae: 22.1097 - val_loss: 0.8093 - val_mae: 34.1708 - lr: 2.5000e-04\n",
      "Epoch 40/500\n",
      "491/491 [==============================] - 1s 2ms/step - loss: 0.4953 - mae: 21.3630 - val_loss: 0.6736 - val_mae: 28.4756 - lr: 2.5000e-04\n",
      "Epoch 41/500\n",
      "491/491 [==============================] - 1s 2ms/step - loss: 0.4656 - mae: 20.0691 - val_loss: 0.7439 - val_mae: 31.3871 - lr: 2.5000e-04\n",
      "Epoch 42/500\n",
      "491/491 [==============================] - 1s 2ms/step - loss: 0.4809 - mae: 20.7110 - val_loss: 0.7351 - val_mae: 31.0135 - lr: 2.5000e-04\n",
      "Epoch 43/500\n",
      "491/491 [==============================] - 1s 2ms/step - loss: 0.4563 - mae: 19.6810 - val_loss: 0.7321 - val_mae: 30.8883 - lr: 2.5000e-04\n",
      "Epoch 44/500\n",
      "491/491 [==============================] - 1s 2ms/step - loss: 0.4907 - mae: 21.1655 - val_loss: 0.6807 - val_mae: 28.7180 - lr: 2.5000e-04\n",
      "Epoch 45/500\n",
      "491/491 [==============================] - 1s 3ms/step - loss: 0.4993 - mae: 21.5367 - val_loss: 0.6697 - val_mae: 28.3367 - lr: 2.5000e-04\n",
      "Epoch 46/500\n",
      "491/491 [==============================] - 1s 2ms/step - loss: 0.4859 - mae: 20.9505 - val_loss: 0.7410 - val_mae: 31.5299 - lr: 2.5000e-04\n",
      "Epoch 47/500\n",
      "491/491 [==============================] - 1s 2ms/step - loss: 0.4923 - mae: 21.2328 - val_loss: 0.7826 - val_mae: 33.0353 - lr: 2.5000e-04\n",
      "Epoch 48/500\n",
      "491/491 [==============================] - 1s 2ms/step - loss: 0.4863 - mae: 20.9485 - val_loss: 0.6580 - val_mae: 27.7867 - lr: 2.5000e-04\n",
      "Epoch 49/500\n",
      "491/491 [==============================] - 1s 2ms/step - loss: 0.4532 - mae: 19.5374 - val_loss: 0.6566 - val_mae: 27.7474 - lr: 2.5000e-04\n",
      "Epoch 50/500\n",
      "491/491 [==============================] - 1s 3ms/step - loss: 0.4931 - mae: 21.2615 - val_loss: 0.6552 - val_mae: 27.6617 - lr: 2.5000e-04\n",
      "Epoch 51/500\n",
      "491/491 [==============================] - 1s 2ms/step - loss: 0.4783 - mae: 20.6398 - val_loss: 0.7543 - val_mae: 32.1329 - lr: 2.5000e-04\n",
      "Epoch 52/500\n",
      "491/491 [==============================] - 1s 2ms/step - loss: 0.4532 - mae: 19.5255 - val_loss: 0.6795 - val_mae: 28.8149 - lr: 2.5000e-04\n",
      "Epoch 53/500\n",
      "491/491 [==============================] - 1s 2ms/step - loss: 0.4775 - mae: 20.5894 - val_loss: 0.9439 - val_mae: 39.9769 - lr: 2.5000e-04\n",
      "Epoch 54/500\n",
      "491/491 [==============================] - 1s 2ms/step - loss: 0.5029 - mae: 21.6720 - val_loss: 0.6490 - val_mae: 27.4277 - lr: 2.5000e-04\n",
      "Epoch 55/500\n",
      "491/491 [==============================] - 1s 3ms/step - loss: 0.4936 - mae: 21.2757 - val_loss: 0.6545 - val_mae: 27.6808 - lr: 2.5000e-04\n",
      "Epoch 56/500\n",
      "491/491 [==============================] - 1s 2ms/step - loss: 0.4451 - mae: 19.2021 - val_loss: 0.6558 - val_mae: 27.6699 - lr: 2.5000e-04\n",
      "Epoch 57/500\n",
      "491/491 [==============================] - 1s 2ms/step - loss: 0.4640 - mae: 20.0026 - val_loss: 0.6498 - val_mae: 27.4854 - lr: 2.5000e-04\n",
      "Epoch 58/500\n",
      "491/491 [==============================] - 1s 2ms/step - loss: 0.4766 - mae: 20.5485 - val_loss: 0.8455 - val_mae: 36.1495 - lr: 2.5000e-04\n",
      "Epoch 59/500\n",
      "491/491 [==============================] - 1s 2ms/step - loss: 0.4509 - mae: 19.4271 - val_loss: 0.6678 - val_mae: 28.1727 - lr: 2.5000e-04\n",
      "Epoch 60/500\n",
      "491/491 [==============================] - 1s 2ms/step - loss: 0.3946 - mae: 16.9958 - val_loss: 0.6784 - val_mae: 28.6207 - lr: 1.2500e-04\n",
      "Epoch 61/500\n",
      "491/491 [==============================] - 1s 2ms/step - loss: 0.4082 - mae: 17.5713 - val_loss: 0.6385 - val_mae: 26.9873 - lr: 1.2500e-04\n",
      "Epoch 62/500\n",
      "491/491 [==============================] - 1s 2ms/step - loss: 0.3984 - mae: 17.1493 - val_loss: 0.7316 - val_mae: 30.8689 - lr: 1.2500e-04\n",
      "Epoch 63/500\n",
      "491/491 [==============================] - 1s 2ms/step - loss: 0.3825 - mae: 16.4845 - val_loss: 0.6354 - val_mae: 26.8558 - lr: 1.2500e-04\n",
      "Epoch 64/500\n",
      "491/491 [==============================] - 1s 2ms/step - loss: 0.3939 - mae: 16.9844 - val_loss: 0.7087 - val_mae: 29.9008 - lr: 1.2500e-04\n",
      "Epoch 65/500\n",
      "491/491 [==============================] - 1s 2ms/step - loss: 0.4166 - mae: 17.9640 - val_loss: 0.7050 - val_mae: 29.7416 - lr: 1.2500e-04\n",
      "Epoch 66/500\n",
      "491/491 [==============================] - 1s 2ms/step - loss: 0.4054 - mae: 17.4615 - val_loss: 0.7485 - val_mae: 31.5997 - lr: 1.2500e-04\n",
      "Epoch 67/500\n",
      "491/491 [==============================] - 1s 2ms/step - loss: 0.4072 - mae: 17.5268 - val_loss: 0.6320 - val_mae: 26.7220 - lr: 1.2500e-04\n",
      "Epoch 68/500\n",
      "491/491 [==============================] - 1s 2ms/step - loss: 0.4009 - mae: 17.2652 - val_loss: 0.6312 - val_mae: 26.6956 - lr: 1.2500e-04\n",
      "Epoch 69/500\n",
      "491/491 [==============================] - 1s 2ms/step - loss: 0.4106 - mae: 17.6846 - val_loss: 0.6286 - val_mae: 26.5299 - lr: 1.2500e-04\n",
      "Epoch 70/500\n",
      "491/491 [==============================] - 1s 2ms/step - loss: 0.3918 - mae: 16.8799 - val_loss: 0.8168 - val_mae: 34.5378 - lr: 1.2500e-04\n",
      "Epoch 71/500\n",
      "491/491 [==============================] - 1s 2ms/step - loss: 0.3923 - mae: 16.9117 - val_loss: 0.7715 - val_mae: 32.5927 - lr: 1.2500e-04\n",
      "Epoch 72/500\n",
      "491/491 [==============================] - 1s 2ms/step - loss: 0.3940 - mae: 16.9542 - val_loss: 0.6507 - val_mae: 27.4504 - lr: 1.2500e-04\n",
      "Epoch 73/500\n",
      "491/491 [==============================] - 1s 2ms/step - loss: 0.3914 - mae: 16.8622 - val_loss: 0.6207 - val_mae: 26.2281 - lr: 1.2500e-04\n",
      "Epoch 74/500\n",
      "491/491 [==============================] - 1s 3ms/step - loss: 0.3901 - mae: 16.7970 - val_loss: 0.6652 - val_mae: 28.0580 - lr: 1.2500e-04\n",
      "Epoch 75/500\n",
      "491/491 [==============================] - 1s 2ms/step - loss: 0.3834 - mae: 16.5062 - val_loss: 0.6712 - val_mae: 28.3123 - lr: 1.2500e-04\n",
      "Epoch 76/500\n",
      "491/491 [==============================] - 1s 2ms/step - loss: 0.3944 - mae: 17.0071 - val_loss: 0.6166 - val_mae: 26.0472 - lr: 1.2500e-04\n",
      "Epoch 77/500\n",
      "491/491 [==============================] - 1s 2ms/step - loss: 0.3870 - mae: 16.6684 - val_loss: 0.6160 - val_mae: 26.0020 - lr: 1.2500e-04\n",
      "Epoch 78/500\n",
      "491/491 [==============================] - 1s 2ms/step - loss: 0.4128 - mae: 17.7911 - val_loss: 0.6310 - val_mae: 26.7318 - lr: 1.2500e-04\n",
      "Epoch 79/500\n",
      "491/491 [==============================] - 1s 2ms/step - loss: 0.3950 - mae: 17.0343 - val_loss: 0.6284 - val_mae: 26.5083 - lr: 1.2500e-04\n",
      "Epoch 80/500\n",
      "491/491 [==============================] - 1s 2ms/step - loss: 0.4019 - mae: 17.3151 - val_loss: 0.6551 - val_mae: 27.6301 - lr: 1.2500e-04\n",
      "Epoch 81/500\n",
      "491/491 [==============================] - 1s 3ms/step - loss: 0.3927 - mae: 16.9180 - val_loss: 0.6245 - val_mae: 26.3437 - lr: 1.2500e-04\n",
      "Epoch 82/500\n",
      "491/491 [==============================] - 1s 3ms/step - loss: 0.3997 - mae: 17.2129 - val_loss: 0.7003 - val_mae: 29.5510 - lr: 1.2500e-04\n",
      "Epoch 83/500\n",
      "491/491 [==============================] - 1s 2ms/step - loss: 0.3794 - mae: 16.3522 - val_loss: 0.6628 - val_mae: 27.9574 - lr: 1.0000e-04\n",
      "Epoch 84/500\n",
      "491/491 [==============================] - 1s 2ms/step - loss: 0.3794 - mae: 16.3572 - val_loss: 0.6077 - val_mae: 25.6543 - lr: 1.0000e-04\n",
      "Epoch 85/500\n",
      "491/491 [==============================] - 1s 2ms/step - loss: 0.3700 - mae: 15.9426 - val_loss: 0.7293 - val_mae: 30.7975 - lr: 1.0000e-04\n",
      "Epoch 86/500\n",
      "491/491 [==============================] - 1s 2ms/step - loss: 0.3851 - mae: 16.5924 - val_loss: 0.6632 - val_mae: 27.9742 - lr: 1.0000e-04\n",
      "Epoch 87/500\n",
      "491/491 [==============================] - 1s 3ms/step - loss: 0.3850 - mae: 16.5903 - val_loss: 0.6562 - val_mae: 27.6783 - lr: 1.0000e-04\n",
      "Epoch 88/500\n",
      "491/491 [==============================] - 1s 2ms/step - loss: 0.3722 - mae: 16.0278 - val_loss: 0.8030 - val_mae: 33.9719 - lr: 1.0000e-04\n",
      "Epoch 89/500\n",
      "491/491 [==============================] - 1s 2ms/step - loss: 0.3703 - mae: 15.9341 - val_loss: 0.8043 - val_mae: 34.0261 - lr: 1.0000e-04\n",
      "Epoch 90/500\n",
      "491/491 [==============================] - 1s 2ms/step - loss: 0.3769 - mae: 16.2253 - val_loss: 0.6001 - val_mae: 25.3332 - lr: 1.0000e-04\n",
      "Epoch 91/500\n",
      "491/491 [==============================] - 1s 2ms/step - loss: 0.3738 - mae: 16.0990 - val_loss: 0.6479 - val_mae: 27.3255 - lr: 1.0000e-04\n",
      "Epoch 92/500\n",
      "491/491 [==============================] - 1s 2ms/step - loss: 0.3894 - mae: 16.7826 - val_loss: 0.6282 - val_mae: 26.4968 - lr: 1.0000e-04\n",
      "Epoch 93/500\n",
      "491/491 [==============================] - 1s 2ms/step - loss: 0.3686 - mae: 15.8867 - val_loss: 0.5973 - val_mae: 25.2219 - lr: 1.0000e-04\n",
      "Epoch 94/500\n",
      "491/491 [==============================] - 1s 2ms/step - loss: 0.3661 - mae: 15.7699 - val_loss: 0.5980 - val_mae: 25.2306 - lr: 1.0000e-04\n",
      "Epoch 95/500\n",
      "491/491 [==============================] - 1s 2ms/step - loss: 0.3723 - mae: 16.0313 - val_loss: 0.5963 - val_mae: 25.1969 - lr: 1.0000e-04\n",
      "Epoch 96/500\n",
      "491/491 [==============================] - 1s 2ms/step - loss: 0.3614 - mae: 15.5670 - val_loss: 0.6103 - val_mae: 25.7419 - lr: 1.0000e-04\n",
      "Epoch 97/500\n",
      "491/491 [==============================] - 1s 2ms/step - loss: 0.3679 - mae: 15.8441 - val_loss: 0.7569 - val_mae: 31.9995 - lr: 1.0000e-04\n",
      "Epoch 98/500\n",
      "491/491 [==============================] - 1s 2ms/step - loss: 0.3814 - mae: 16.4315 - val_loss: 0.6478 - val_mae: 27.3237 - lr: 1.0000e-04\n",
      "Epoch 99/500\n",
      "491/491 [==============================] - 1s 2ms/step - loss: 0.3838 - mae: 16.5415 - val_loss: 0.6149 - val_mae: 25.9319 - lr: 1.0000e-04\n",
      "Epoch 100/500\n",
      "491/491 [==============================] - 1s 2ms/step - loss: 0.3739 - mae: 16.1054 - val_loss: 0.6037 - val_mae: 25.5686 - lr: 1.0000e-04\n",
      "Epoch 101/500\n",
      "491/491 [==============================] - 1s 2ms/step - loss: 0.3644 - mae: 15.6885 - val_loss: 0.6694 - val_mae: 28.2471 - lr: 1.0000e-04\n",
      "Epoch 102/500\n",
      "491/491 [==============================] - 1s 2ms/step - loss: 0.3589 - mae: 15.4658 - val_loss: 0.5913 - val_mae: 25.0142 - lr: 1.0000e-04\n",
      "Epoch 103/500\n",
      "491/491 [==============================] - 1s 2ms/step - loss: 0.3776 - mae: 16.2572 - val_loss: 0.5856 - val_mae: 24.7175 - lr: 1.0000e-04\n",
      "Epoch 104/500\n",
      "491/491 [==============================] - 1s 2ms/step - loss: 0.3577 - mae: 15.4112 - val_loss: 0.6797 - val_mae: 28.6893 - lr: 1.0000e-04\n",
      "Epoch 105/500\n",
      "491/491 [==============================] - 1s 2ms/step - loss: 0.3887 - mae: 16.7560 - val_loss: 0.6105 - val_mae: 25.7454 - lr: 1.0000e-04\n",
      "Epoch 106/500\n",
      "491/491 [==============================] - 1s 2ms/step - loss: 0.3628 - mae: 15.6317 - val_loss: 0.6806 - val_mae: 28.7306 - lr: 1.0000e-04\n",
      "Epoch 107/500\n",
      "491/491 [==============================] - 1s 2ms/step - loss: 0.3544 - mae: 15.2571 - val_loss: 0.6456 - val_mae: 27.2362 - lr: 1.0000e-04\n",
      "Epoch 108/500\n",
      "491/491 [==============================] - 1s 2ms/step - loss: 0.3810 - mae: 16.4055 - val_loss: 0.6406 - val_mae: 27.0235 - lr: 1.0000e-04\n",
      "Epoch 109/500\n",
      "491/491 [==============================] - 1s 2ms/step - loss: 0.3580 - mae: 15.4294 - val_loss: 0.6018 - val_mae: 25.3824 - lr: 1.0000e-04\n",
      "Epoch 110/500\n",
      "491/491 [==============================] - 1s 2ms/step - loss: 0.3613 - mae: 15.5493 - val_loss: 0.5874 - val_mae: 24.7767 - lr: 1.0000e-04\n",
      "Epoch 111/500\n",
      "491/491 [==============================] - 1s 2ms/step - loss: 0.3601 - mae: 15.5216 - val_loss: 0.5939 - val_mae: 25.1617 - lr: 1.0000e-04\n",
      "Epoch 112/500\n",
      "491/491 [==============================] - 1s 3ms/step - loss: 0.3616 - mae: 15.5773 - val_loss: 0.5764 - val_mae: 24.3536 - lr: 1.0000e-04\n",
      "Epoch 113/500\n",
      "491/491 [==============================] - 1s 2ms/step - loss: 0.3765 - mae: 16.2312 - val_loss: 0.5736 - val_mae: 24.2187 - lr: 1.0000e-04\n",
      "Epoch 114/500\n",
      "491/491 [==============================] - 1s 2ms/step - loss: 0.3753 - mae: 16.1792 - val_loss: 0.6997 - val_mae: 29.5608 - lr: 1.0000e-04\n",
      "Epoch 115/500\n",
      "491/491 [==============================] - 1s 2ms/step - loss: 0.3665 - mae: 15.7874 - val_loss: 0.5980 - val_mae: 25.2192 - lr: 1.0000e-04\n",
      "Epoch 116/500\n",
      "491/491 [==============================] - 1s 2ms/step - loss: 0.3558 - mae: 15.3352 - val_loss: 0.7503 - val_mae: 31.7319 - lr: 1.0000e-04\n",
      "Epoch 117/500\n",
      "491/491 [==============================] - 1s 2ms/step - loss: 0.3567 - mae: 15.3673 - val_loss: 0.6405 - val_mae: 27.0281 - lr: 1.0000e-04\n",
      "Epoch 118/500\n",
      "491/491 [==============================] - 1s 3ms/step - loss: 0.3496 - mae: 15.0605 - val_loss: 0.6086 - val_mae: 25.6641 - lr: 1.0000e-04\n",
      "Epoch 119/500\n",
      "491/491 [==============================] - 1s 2ms/step - loss: 0.3632 - mae: 15.6574 - val_loss: 0.6464 - val_mae: 27.2809 - lr: 1.0000e-04\n",
      "Epoch 120/500\n",
      "491/491 [==============================] - 1s 2ms/step - loss: 0.3597 - mae: 15.4833 - val_loss: 0.6074 - val_mae: 25.6173 - lr: 1.0000e-04\n",
      "Epoch 121/500\n",
      "491/491 [==============================] - 1s 2ms/step - loss: 0.3544 - mae: 15.2538 - val_loss: 0.5749 - val_mae: 24.2466 - lr: 1.0000e-04\n",
      "Epoch 122/500\n",
      "491/491 [==============================] - 1s 2ms/step - loss: 0.3834 - mae: 16.5022 - val_loss: 0.5681 - val_mae: 23.9654 - lr: 1.0000e-04\n",
      "Epoch 123/500\n",
      "491/491 [==============================] - 1s 2ms/step - loss: 0.3650 - mae: 15.7178 - val_loss: 0.7027 - val_mae: 29.6997 - lr: 1.0000e-04\n",
      "Epoch 124/500\n",
      "491/491 [==============================] - 1s 2ms/step - loss: 0.3559 - mae: 15.3201 - val_loss: 0.5742 - val_mae: 24.2162 - lr: 1.0000e-04\n",
      "Epoch 125/500\n",
      "491/491 [==============================] - 1s 2ms/step - loss: 0.3604 - mae: 15.5222 - val_loss: 0.5706 - val_mae: 24.0649 - lr: 1.0000e-04\n",
      "Epoch 126/500\n",
      "491/491 [==============================] - 1s 2ms/step - loss: 0.3515 - mae: 15.1522 - val_loss: 0.5649 - val_mae: 23.8294 - lr: 1.0000e-04\n",
      "Epoch 127/500\n",
      "491/491 [==============================] - 1s 3ms/step - loss: 0.3560 - mae: 15.3280 - val_loss: 0.5766 - val_mae: 24.3142 - lr: 1.0000e-04\n",
      "Epoch 128/500\n",
      "491/491 [==============================] - 1s 3ms/step - loss: 0.3582 - mae: 15.4387 - val_loss: 0.5608 - val_mae: 23.6777 - lr: 1.0000e-04\n",
      "Epoch 129/500\n",
      "491/491 [==============================] - 1s 3ms/step - loss: 0.3638 - mae: 15.6630 - val_loss: 0.5608 - val_mae: 23.6587 - lr: 1.0000e-04\n",
      "Epoch 130/500\n",
      "491/491 [==============================] - 1s 2ms/step - loss: 0.3531 - mae: 15.2127 - val_loss: 0.6208 - val_mae: 26.1926 - lr: 1.0000e-04\n",
      "Epoch 131/500\n",
      "491/491 [==============================] - 1s 2ms/step - loss: 0.3454 - mae: 14.8822 - val_loss: 0.5845 - val_mae: 24.6441 - lr: 1.0000e-04\n",
      "Epoch 132/500\n",
      "491/491 [==============================] - 1s 3ms/step - loss: 0.3524 - mae: 15.1857 - val_loss: 0.5718 - val_mae: 24.2105 - lr: 1.0000e-04\n",
      "Epoch 133/500\n",
      "491/491 [==============================] - 1s 2ms/step - loss: 0.3505 - mae: 15.1001 - val_loss: 0.5553 - val_mae: 23.4325 - lr: 1.0000e-04\n",
      "Epoch 134/500\n",
      "491/491 [==============================] - 1s 2ms/step - loss: 0.3499 - mae: 15.0567 - val_loss: 0.6396 - val_mae: 27.0031 - lr: 1.0000e-04\n",
      "Epoch 135/500\n",
      "491/491 [==============================] - 1s 2ms/step - loss: 0.3683 - mae: 15.8748 - val_loss: 0.5523 - val_mae: 23.3090 - lr: 1.0000e-04\n",
      "Epoch 136/500\n",
      "491/491 [==============================] - 1s 2ms/step - loss: 0.3541 - mae: 15.2625 - val_loss: 0.5876 - val_mae: 24.7770 - lr: 1.0000e-04\n",
      "Epoch 137/500\n",
      "491/491 [==============================] - 1s 2ms/step - loss: 0.3729 - mae: 16.0610 - val_loss: 0.5580 - val_mae: 23.5354 - lr: 1.0000e-04\n",
      "Epoch 138/500\n",
      "491/491 [==============================] - 1s 2ms/step - loss: 0.3546 - mae: 15.2849 - val_loss: 0.5721 - val_mae: 24.2432 - lr: 1.0000e-04\n",
      "Epoch 139/500\n",
      "491/491 [==============================] - 1s 2ms/step - loss: 0.3598 - mae: 15.4966 - val_loss: 0.5547 - val_mae: 23.3970 - lr: 1.0000e-04\n",
      "Epoch 140/500\n",
      "491/491 [==============================] - 1s 2ms/step - loss: 0.3560 - mae: 15.3341 - val_loss: 0.5671 - val_mae: 23.9157 - lr: 1.0000e-04\n",
      "Epoch 141/500\n",
      "491/491 [==============================] - 1s 3ms/step - loss: 0.3392 - mae: 14.6059 - val_loss: 0.5900 - val_mae: 24.8815 - lr: 1.0000e-04\n",
      "Epoch 142/500\n",
      "491/491 [==============================] - 1s 2ms/step - loss: 0.3464 - mae: 14.9303 - val_loss: 0.5494 - val_mae: 23.1831 - lr: 1.0000e-04\n",
      "Epoch 143/500\n",
      "491/491 [==============================] - 1s 2ms/step - loss: 0.3399 - mae: 14.6259 - val_loss: 0.5558 - val_mae: 23.5158 - lr: 1.0000e-04\n",
      "Epoch 144/500\n",
      "491/491 [==============================] - 1s 2ms/step - loss: 0.3458 - mae: 14.8833 - val_loss: 0.5494 - val_mae: 23.1730 - lr: 1.0000e-04\n",
      "Epoch 145/500\n",
      "491/491 [==============================] - 1s 2ms/step - loss: 0.3307 - mae: 14.2406 - val_loss: 0.5602 - val_mae: 23.6203 - lr: 1.0000e-04\n",
      "Epoch 146/500\n",
      "491/491 [==============================] - 1s 2ms/step - loss: 0.3559 - mae: 15.3361 - val_loss: 0.6771 - val_mae: 28.6164 - lr: 1.0000e-04\n",
      "Epoch 147/500\n",
      "491/491 [==============================] - 1s 2ms/step - loss: 0.3587 - mae: 15.4723 - val_loss: 0.5454 - val_mae: 23.0081 - lr: 1.0000e-04\n",
      "Epoch 148/500\n",
      "491/491 [==============================] - 1s 2ms/step - loss: 0.3485 - mae: 15.0104 - val_loss: 0.5455 - val_mae: 23.0439 - lr: 1.0000e-04\n",
      "Epoch 149/500\n",
      "491/491 [==============================] - 1s 3ms/step - loss: 0.3477 - mae: 14.9699 - val_loss: 0.5479 - val_mae: 23.1056 - lr: 1.0000e-04\n",
      "Epoch 150/500\n",
      "491/491 [==============================] - 1s 2ms/step - loss: 0.3414 - mae: 14.7012 - val_loss: 0.5406 - val_mae: 22.8338 - lr: 1.0000e-04\n",
      "Epoch 151/500\n",
      "491/491 [==============================] - 1s 2ms/step - loss: 0.3546 - mae: 15.2771 - val_loss: 0.6397 - val_mae: 27.0191 - lr: 1.0000e-04\n",
      "Epoch 152/500\n",
      "491/491 [==============================] - 1s 3ms/step - loss: 0.3480 - mae: 14.9979 - val_loss: 0.5389 - val_mae: 22.7598 - lr: 1.0000e-04\n",
      "Epoch 153/500\n",
      "491/491 [==============================] - 1s 2ms/step - loss: 0.3437 - mae: 14.8155 - val_loss: 0.5659 - val_mae: 23.8635 - lr: 1.0000e-04\n",
      "Epoch 154/500\n",
      "491/491 [==============================] - 1s 2ms/step - loss: 0.3524 - mae: 15.1776 - val_loss: 0.5387 - val_mae: 22.7320 - lr: 1.0000e-04\n",
      "Epoch 155/500\n",
      "491/491 [==============================] - 1s 2ms/step - loss: 0.3563 - mae: 15.3477 - val_loss: 0.5423 - val_mae: 22.8713 - lr: 1.0000e-04\n",
      "Epoch 156/500\n",
      "491/491 [==============================] - 1s 2ms/step - loss: 0.3515 - mae: 15.1559 - val_loss: 0.5893 - val_mae: 25.0355 - lr: 1.0000e-04\n",
      "Epoch 157/500\n",
      "491/491 [==============================] - 1s 2ms/step - loss: 0.3391 - mae: 14.6188 - val_loss: 0.6308 - val_mae: 26.6333 - lr: 1.0000e-04\n",
      "Epoch 158/500\n",
      "491/491 [==============================] - 1s 3ms/step - loss: 0.3408 - mae: 14.6989 - val_loss: 0.5405 - val_mae: 22.7950 - lr: 1.0000e-04\n",
      "Epoch 159/500\n",
      "491/491 [==============================] - 1s 3ms/step - loss: 0.3397 - mae: 14.6471 - val_loss: 0.5564 - val_mae: 23.4592 - lr: 1.0000e-04\n",
      "Epoch 160/500\n",
      "491/491 [==============================] - 1s 2ms/step - loss: 0.3563 - mae: 15.3601 - val_loss: 0.5388 - val_mae: 22.7645 - lr: 1.0000e-04\n",
      "Epoch 161/500\n",
      "491/491 [==============================] - 1s 2ms/step - loss: 0.3416 - mae: 14.7166 - val_loss: 0.5663 - val_mae: 23.8802 - lr: 1.0000e-04\n",
      "Epoch 162/500\n",
      "491/491 [==============================] - 1s 2ms/step - loss: 0.3574 - mae: 15.4104 - val_loss: 0.5546 - val_mae: 23.3849 - lr: 1.0000e-04\n",
      "Epoch 163/500\n",
      "491/491 [==============================] - 1s 2ms/step - loss: 0.3457 - mae: 14.8896 - val_loss: 0.5386 - val_mae: 22.7116 - lr: 1.0000e-04\n",
      "Epoch 164/500\n",
      "491/491 [==============================] - 1s 2ms/step - loss: 0.3373 - mae: 14.5332 - val_loss: 0.5341 - val_mae: 22.5236 - lr: 1.0000e-04\n",
      "Epoch 165/500\n",
      "491/491 [==============================] - 1s 2ms/step - loss: 0.3480 - mae: 14.9969 - val_loss: 0.5429 - val_mae: 22.8885 - lr: 1.0000e-04\n",
      "Epoch 166/500\n",
      "491/491 [==============================] - 1s 2ms/step - loss: 0.3288 - mae: 14.1499 - val_loss: 0.5486 - val_mae: 23.1307 - lr: 1.0000e-04\n",
      "Epoch 167/500\n",
      "491/491 [==============================] - 1s 2ms/step - loss: 0.3425 - mae: 14.7465 - val_loss: 0.5410 - val_mae: 22.8096 - lr: 1.0000e-04\n",
      "Epoch 168/500\n",
      "491/491 [==============================] - 1s 2ms/step - loss: 0.3457 - mae: 14.9054 - val_loss: 0.5565 - val_mae: 23.4664 - lr: 1.0000e-04\n",
      "Epoch 169/500\n",
      "491/491 [==============================] - 1s 3ms/step - loss: 0.3410 - mae: 14.6899 - val_loss: 0.7310 - val_mae: 30.9451 - lr: 1.0000e-04\n",
      "Epoch 170/500\n",
      "491/491 [==============================] - 1s 2ms/step - loss: 0.3471 - mae: 14.9700 - val_loss: 0.5741 - val_mae: 24.3748 - lr: 1.0000e-04\n",
      "Epoch 171/500\n",
      "491/491 [==============================] - 1s 2ms/step - loss: 0.3418 - mae: 14.7307 - val_loss: 0.6565 - val_mae: 27.7507 - lr: 1.0000e-04\n",
      "Epoch 172/500\n",
      "491/491 [==============================] - 1s 2ms/step - loss: 0.3386 - mae: 14.5775 - val_loss: 0.5251 - val_mae: 22.1797 - lr: 1.0000e-04\n",
      "Epoch 173/500\n",
      "491/491 [==============================] - 1s 2ms/step - loss: 0.3390 - mae: 14.6147 - val_loss: 0.5221 - val_mae: 22.0279 - lr: 1.0000e-04\n",
      "Epoch 174/500\n",
      "491/491 [==============================] - 1s 2ms/step - loss: 0.3322 - mae: 14.3089 - val_loss: 0.5294 - val_mae: 22.3204 - lr: 1.0000e-04\n",
      "Epoch 175/500\n",
      "491/491 [==============================] - 1s 2ms/step - loss: 0.3447 - mae: 14.8632 - val_loss: 0.5515 - val_mae: 23.2564 - lr: 1.0000e-04\n",
      "Epoch 176/500\n",
      "491/491 [==============================] - 1s 2ms/step - loss: 0.3316 - mae: 14.2946 - val_loss: 0.5248 - val_mae: 22.1902 - lr: 1.0000e-04\n",
      "Epoch 177/500\n",
      "491/491 [==============================] - 1s 2ms/step - loss: 0.3369 - mae: 14.5088 - val_loss: 0.5191 - val_mae: 21.8983 - lr: 1.0000e-04\n",
      "Epoch 178/500\n",
      "491/491 [==============================] - 1s 2ms/step - loss: 0.3356 - mae: 14.4706 - val_loss: 0.5435 - val_mae: 22.9158 - lr: 1.0000e-04\n",
      "Epoch 179/500\n",
      "491/491 [==============================] - 1s 2ms/step - loss: 0.3294 - mae: 14.1842 - val_loss: 0.5238 - val_mae: 22.0884 - lr: 1.0000e-04\n",
      "Epoch 180/500\n",
      "491/491 [==============================] - 1s 2ms/step - loss: 0.3332 - mae: 14.3693 - val_loss: 0.5251 - val_mae: 22.1403 - lr: 1.0000e-04\n",
      "Epoch 181/500\n",
      "491/491 [==============================] - 1s 2ms/step - loss: 0.3210 - mae: 13.8250 - val_loss: 0.5920 - val_mae: 24.9893 - lr: 1.0000e-04\n",
      "Epoch 182/500\n",
      "491/491 [==============================] - 1s 3ms/step - loss: 0.3342 - mae: 14.3925 - val_loss: 0.5192 - val_mae: 21.9009 - lr: 1.0000e-04\n",
      "Epoch 183/500\n",
      "491/491 [==============================] - 1s 2ms/step - loss: 0.3327 - mae: 14.3433 - val_loss: 0.5377 - val_mae: 22.7758 - lr: 1.0000e-04\n",
      "Epoch 184/500\n",
      "491/491 [==============================] - 1s 2ms/step - loss: 0.3332 - mae: 14.3611 - val_loss: 0.5493 - val_mae: 23.1650 - lr: 1.0000e-04\n",
      "Epoch 185/500\n",
      "491/491 [==============================] - 1s 2ms/step - loss: 0.3323 - mae: 14.3094 - val_loss: 0.5524 - val_mae: 23.2971 - lr: 1.0000e-04\n",
      "Epoch 186/500\n",
      "491/491 [==============================] - 1s 2ms/step - loss: 0.3281 - mae: 14.1262 - val_loss: 0.6192 - val_mae: 26.3666 - lr: 1.0000e-04\n",
      "Epoch 187/500\n",
      "491/491 [==============================] - 1s 3ms/step - loss: 0.3340 - mae: 14.3901 - val_loss: 0.5477 - val_mae: 23.0970 - lr: 1.0000e-04\n",
      "Epoch 187: early stopping\n"
     ]
    }
   ],
   "source": [
    "history = model.fit(X_train,Y_train,batch_size=5,epochs=500,\n",
    "              validation_data=(X_valid,Y_valid),callbacks=[callback,earlystopping,scheduler])"
   ]
  },
  {
   "cell_type": "code",
   "execution_count": 20,
   "metadata": {},
   "outputs": [
    {
     "data": {
      "image/png": "[encoded data removed]",
      "text/plain": [
       "<Figure size 432x288 with 1 Axes>"
      ]
     },
     "metadata": {
      "needs_background": "light"
     },
     "output_type": "display_data"
    }
   ],
   "source": [
    "plt.title('Loss')\n",
    "plt.plot(model.history.history['val_loss'],label='valid loss')\n",
    "plt.plot(model.history.history['loss'],label='train loss')\n",
    "plt.legend()\n",
    "plt.show()\n",
    "\n",
    "#plt.savefig('DNN_fig04.png',format='png',dpi=300)"
   ]
  },
  {
   "cell_type": "code",
   "execution_count": 22,
   "metadata": {},
   "outputs": [],
   "source": [
    "model.load_weights('model.h5')\n",
    "\n",
    "pred = model.predict(x_test)\n",
    "\n",
    "result = pd.DataFrame(index=test.index[16:])\n",
    "result.reset_index(inplace=True)\n",
    "\n",
    "result['pred'] = pred\n",
    "result['y'] = y_test\n",
    "\n",
    "#result.drop('index',axis=1,inplace=True)"
   ]
  },
  {
   "cell_type": "code",
   "execution_count": 28,
   "metadata": {},
   "outputs": [
    {
     "data": {
      "image/png": "[encoded data removed]",
      "text/plain": [
       "<Figure size 432x288 with 1 Axes>"
      ]
     },
     "metadata": {
      "needs_background": "light"
     },
     "output_type": "display_data"
    }
   ],
   "source": [
    "plt.title('S&P500')\n",
    "plt.plot(result.pred,label='prediction')\n",
    "plt.plot(result.y,label='actual')\n",
    "plt.legend()\n",
    "plt.show()\n",
    "\n",
    "#plt.savefig('DNN_fig05.png',format='png',dpi=300)"
   ]
  },
  {
   "cell_type": "code",
   "execution_count": 27,
   "metadata": {},
   "outputs": [
    {
     "data": {
      "image/png": "[encoded data removed]",
      "text/plain": [
       "<Figure size 432x288 with 1 Axes>"
      ]
     },
     "metadata": {
      "needs_background": "light"
     },
     "output_type": "display_data"
    }
   ],
   "source": [
    "plt.title('S&P500')\n",
    "plt.plot(result.pred,label='prediction')\n",
    "plt.plot(result.y,label='actual')\n",
    "\n",
    "shift = result.pred.shift(-1).values\n",
    "plt.plot(shift,label=\"shiftin'\")\n",
    "\n",
    "plt.legend()\n",
    "plt.show()\n",
    "\n",
    "#plt.savefig('DNN_fig06.png',format='png',dpi=300)"
   ]
  },
  {
   "cell_type": "code",
   "execution_count": 25,
   "metadata": {},
   "outputs": [
    {
     "data": {
      "text/plain": [
       "28.94"
      ]
     },
     "execution_count": 25,
     "metadata": {},
     "output_type": "execute_result"
    }
   ],
   "source": [
    "# RMSE\n",
    "\n",
    "from sklearn.metrics import mean_squared_error \n",
    "\n",
    "MSE = mean_squared_error(y_test, pred) \n",
    "RMSE = np.sqrt(MSE)\n",
    "round(RMSE,2)"
   ]
  },
  {
   "cell_type": "code",
   "execution_count": 26,
   "metadata": {},
   "outputs": [
    {
     "data": {
      "text/plain": [
       "50.01"
      ]
     },
     "execution_count": 26,
     "metadata": {},
     "output_type": "execute_result"
    }
   ],
   "source": [
    "# MAPE\n",
    "\n",
    "def MAPE(y_test, pred):\n",
    "    return np.mean(np.abs((y_test - pred) / y_test)) * 100 \n",
    "    \n",
    "round(MAPE(y_test, pred)*100,2)"
   ]
  },
  {
   "cell_type": "code",
   "execution_count": null,
   "metadata": {},
   "outputs": [],
   "source": []
  },
  {
   "cell_type": "code",
   "execution_count": null,
   "metadata": {},
   "outputs": [],
   "source": []
  }
 ],
 "metadata": {
  "kernelspec": {
   "display_name": "Python 3",
   "language": "python",
   "name": "python3"
  },
  "language_info": {
   "codemirror_mode": {
    "name": "ipython",
    "version": 3
   },
   "file_extension": ".py",
   "mimetype": "text/x-python",
   "name": "python",
   "nbconvert_exporter": "python",
   "pygments_lexer": "ipython3",
   "version": "3.8.5"
  }
 },
 "nbformat": 4,
 "nbformat_minor": 5
}

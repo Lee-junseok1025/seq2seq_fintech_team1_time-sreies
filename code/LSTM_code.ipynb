{
 "cells": [
  {
   "cell_type": "markdown",
   "metadata": {},
   "source": [
    "# S&P500"
   ]
  },
  {
   "cell_type": "code",
   "execution_count": 69,
   "metadata": {},
   "outputs": [],
   "source": [
    "import yfinance as yf\n",
    "import datetime\n",
    "import pandas as pd\n",
    "\n",
    "tickers = ['^GSPC', '^IXIC','^KS200', '^N225', '^GDAXI']\n",
    "\n",
    "hourly_signal = {}\n",
    "daily_signal = {}\n",
    "\n",
    "for ticker in tickers:\n",
    "\n",
    "    net = yf.Ticker(ticker)\n",
    "\n",
    "    now = datetime.datetime.now()\n",
    "    substract_days = datetime.timedelta(days=500)\n",
    "    n_days_ago = now - substract_days    \n",
    "    pred_start = pd.to_datetime(n_days_ago)\n",
    "    pred_end = pd.to_datetime(now)\n",
    "\n",
    "    start_date, end_date = pred_start, pred_end\n",
    "    daily_signals_df = net.history(start=start_date, end=end_date, interval='1d', back_adjust=True, auto_adjust=True, prepost=False)\n",
    "    hourly_signals_df = net.history(start=start_date, end=end_date, interval='1h', back_adjust=True, auto_adjust=True, prepost=True)\n",
    "    \n",
    "    daily_signal[ticker] = daily_signals_df['Close']\n",
    "    hourly_signal[ticker] = hourly_signals_df['Close']"
   ]
  },
  {
   "cell_type": "code",
   "execution_count": 70,
   "metadata": {},
   "outputs": [
    {
     "data": {
      "text/html": [
       "<div>\n",
       "<style scoped>\n",
       "    .dataframe tbody tr th:only-of-type {\n",
       "        vertical-align: middle;\n",
       "    }\n",
       "\n",
       "    .dataframe tbody tr th {\n",
       "        vertical-align: top;\n",
       "    }\n",
       "\n",
       "    .dataframe thead th {\n",
       "        text-align: right;\n",
       "    }\n",
       "</style>\n",
       "<table border=\"1\" class=\"dataframe\">\n",
       "  <thead>\n",
       "    <tr style=\"text-align: right;\">\n",
       "      <th></th>\n",
       "      <th>Close</th>\n",
       "    </tr>\n",
       "  </thead>\n",
       "  <tbody>\n",
       "    <tr>\n",
       "      <th>2021-01-11 09:30:00-05:00</th>\n",
       "      <td>3808.939941</td>\n",
       "    </tr>\n",
       "    <tr>\n",
       "      <th>2021-01-11 10:30:00-05:00</th>\n",
       "      <td>3811.350098</td>\n",
       "    </tr>\n",
       "    <tr>\n",
       "      <th>2021-01-11 11:30:00-05:00</th>\n",
       "      <td>3811.800049</td>\n",
       "    </tr>\n",
       "    <tr>\n",
       "      <th>2021-01-11 12:30:00-05:00</th>\n",
       "      <td>3810.030029</td>\n",
       "    </tr>\n",
       "    <tr>\n",
       "      <th>2021-01-11 13:30:00-05:00</th>\n",
       "      <td>3799.010010</td>\n",
       "    </tr>\n",
       "    <tr>\n",
       "      <th>...</th>\n",
       "      <td>...</td>\n",
       "    </tr>\n",
       "    <tr>\n",
       "      <th>2022-05-25 13:30:00-04:00</th>\n",
       "      <td>3973.350098</td>\n",
       "    </tr>\n",
       "    <tr>\n",
       "      <th>2022-05-25 14:30:00-04:00</th>\n",
       "      <td>3990.260010</td>\n",
       "    </tr>\n",
       "    <tr>\n",
       "      <th>2022-05-25 15:30:00-04:00</th>\n",
       "      <td>3978.500000</td>\n",
       "    </tr>\n",
       "    <tr>\n",
       "      <th>2022-05-25 16:00:00-04:00</th>\n",
       "      <td>3978.730000</td>\n",
       "    </tr>\n",
       "    <tr>\n",
       "      <th>2022-05-25 17:00:00-04:00</th>\n",
       "      <td>3978.730000</td>\n",
       "    </tr>\n",
       "  </tbody>\n",
       "</table>\n",
       "<p>3066 rows × 1 columns</p>\n",
       "</div>"
      ],
      "text/plain": [
       "                                 Close\n",
       "2021-01-11 09:30:00-05:00  3808.939941\n",
       "2021-01-11 10:30:00-05:00  3811.350098\n",
       "2021-01-11 11:30:00-05:00  3811.800049\n",
       "2021-01-11 12:30:00-05:00  3810.030029\n",
       "2021-01-11 13:30:00-05:00  3799.010010\n",
       "...                                ...\n",
       "2022-05-25 13:30:00-04:00  3973.350098\n",
       "2022-05-25 14:30:00-04:00  3990.260010\n",
       "2022-05-25 15:30:00-04:00  3978.500000\n",
       "2022-05-25 16:00:00-04:00  3978.730000\n",
       "2022-05-25 17:00:00-04:00  3978.730000\n",
       "\n",
       "[3066 rows x 1 columns]"
      ]
     },
     "execution_count": 70,
     "metadata": {},
     "output_type": "execute_result"
    }
   ],
   "source": [
    "def get_df (name = '^GSPC'):\n",
    "    df = pd.DataFrame(hourly_signal[name])\n",
    "    df.columns = ['Close']\n",
    "    df = df.dropna()\n",
    "    return df\n",
    "\n",
    "tickers = ['^GSPC', '^IXIC','^KS200', '^N225', '^GDAXI']\n",
    "\n",
    "df_list = []\n",
    "for ticker in tickers:\n",
    "    df = get_df(ticker)\n",
    "    df_list.append(df)\n",
    "\n",
    "SP500 = df_list[0]\n",
    "NASDAQ = df_list[1]\n",
    "KS200 = df_list[2]\n",
    "NI = df_list[3]\n",
    "DAX = df_list[4]\n",
    "\n",
    "SP500"
   ]
  },
  {
   "cell_type": "code",
   "execution_count": 71,
   "metadata": {},
   "outputs": [
    {
     "name": "stdout",
     "output_type": "stream",
     "text": [
      "SP500 : (3066, 1)\n",
      "NASDAQ : (3121, 1)\n",
      "KS200 : (2359, 1)\n",
      "NI : (2004, 1)\n",
      "DAX : (3508, 1)\n"
     ]
    }
   ],
   "source": [
    "IDX_list = [SP500, NASDAQ, KS200, NI, DAX]\n",
    "name_list = ['SP500', 'NASDAQ', 'KS200', 'NI', 'DAX']\n",
    "\n",
    "for idx, name in zip (IDX_list, name_list):\n",
    "    print(name +' : ' + str(idx.shape))"
   ]
  },
  {
   "cell_type": "code",
   "execution_count": 72,
   "metadata": {},
   "outputs": [
    {
     "data": {
      "text/html": [
       "<div>\n",
       "<style scoped>\n",
       "    .dataframe tbody tr th:only-of-type {\n",
       "        vertical-align: middle;\n",
       "    }\n",
       "\n",
       "    .dataframe tbody tr th {\n",
       "        vertical-align: top;\n",
       "    }\n",
       "\n",
       "    .dataframe thead th {\n",
       "        text-align: right;\n",
       "    }\n",
       "</style>\n",
       "<table border=\"1\" class=\"dataframe\">\n",
       "  <thead>\n",
       "    <tr style=\"text-align: right;\">\n",
       "      <th></th>\n",
       "      <th>Close</th>\n",
       "    </tr>\n",
       "    <tr>\n",
       "      <th>Date</th>\n",
       "      <th></th>\n",
       "    </tr>\n",
       "  </thead>\n",
       "  <tbody>\n",
       "    <tr>\n",
       "      <th>2021-01-11 09:30:00-05:00</th>\n",
       "      <td>3808.939941</td>\n",
       "    </tr>\n",
       "    <tr>\n",
       "      <th>2021-01-11 10:30:00-05:00</th>\n",
       "      <td>3811.350098</td>\n",
       "    </tr>\n",
       "    <tr>\n",
       "      <th>2021-01-11 11:30:00-05:00</th>\n",
       "      <td>3811.800049</td>\n",
       "    </tr>\n",
       "    <tr>\n",
       "      <th>2021-01-11 12:30:00-05:00</th>\n",
       "      <td>3810.030029</td>\n",
       "    </tr>\n",
       "    <tr>\n",
       "      <th>2021-01-11 13:30:00-05:00</th>\n",
       "      <td>3799.010010</td>\n",
       "    </tr>\n",
       "    <tr>\n",
       "      <th>...</th>\n",
       "      <td>...</td>\n",
       "    </tr>\n",
       "    <tr>\n",
       "      <th>2022-05-24 12:30:00-04:00</th>\n",
       "      <td>3904.800049</td>\n",
       "    </tr>\n",
       "    <tr>\n",
       "      <th>2022-05-24 13:30:00-04:00</th>\n",
       "      <td>3925.340088</td>\n",
       "    </tr>\n",
       "    <tr>\n",
       "      <th>2022-05-24 14:30:00-04:00</th>\n",
       "      <td>3931.239990</td>\n",
       "    </tr>\n",
       "    <tr>\n",
       "      <th>2022-05-24 15:30:00-04:00</th>\n",
       "      <td>3943.800049</td>\n",
       "    </tr>\n",
       "    <tr>\n",
       "      <th>2022-05-24 16:00:00-04:00</th>\n",
       "      <td>3941.480000</td>\n",
       "    </tr>\n",
       "  </tbody>\n",
       "</table>\n",
       "<p>2765 rows × 1 columns</p>\n",
       "</div>"
      ],
      "text/plain": [
       "                                 Close\n",
       "Date                                  \n",
       "2021-01-11 09:30:00-05:00  3808.939941\n",
       "2021-01-11 10:30:00-05:00  3811.350098\n",
       "2021-01-11 11:30:00-05:00  3811.800049\n",
       "2021-01-11 12:30:00-05:00  3810.030029\n",
       "2021-01-11 13:30:00-05:00  3799.010010\n",
       "...                                ...\n",
       "2022-05-24 12:30:00-04:00  3904.800049\n",
       "2022-05-24 13:30:00-04:00  3925.340088\n",
       "2022-05-24 14:30:00-04:00  3931.239990\n",
       "2022-05-24 15:30:00-04:00  3943.800049\n",
       "2022-05-24 16:00:00-04:00  3941.480000\n",
       "\n",
       "[2765 rows x 1 columns]"
      ]
     },
     "execution_count": 72,
     "metadata": {},
     "output_type": "execute_result"
    }
   ],
   "source": [
    "SP500_cp=SP500.copy()\n",
    "SP500_cp.index.name=\"Date\"\n",
    "\n",
    "df=SP500_cp\n",
    "df=df[(pd.DatetimeIndex(df.index)<'2022-05-25')&(pd.DatetimeIndex(df.index)>'2021-01-10')&(pd.DatetimeIndex(df.index).hour<17)]\n",
    "df"
   ]
  },
  {
   "cell_type": "code",
   "execution_count": 73,
   "metadata": {},
   "outputs": [],
   "source": [
    "from sklearn.preprocessing import MinMaxScaler\n",
    "import numpy as np"
   ]
  },
  {
   "cell_type": "code",
   "execution_count": 74,
   "metadata": {},
   "outputs": [
    {
     "data": {
      "text/html": [
       "<div>\n",
       "<style scoped>\n",
       "    .dataframe tbody tr th:only-of-type {\n",
       "        vertical-align: middle;\n",
       "    }\n",
       "\n",
       "    .dataframe tbody tr th {\n",
       "        vertical-align: top;\n",
       "    }\n",
       "\n",
       "    .dataframe thead th {\n",
       "        text-align: right;\n",
       "    }\n",
       "</style>\n",
       "<table border=\"1\" class=\"dataframe\">\n",
       "  <thead>\n",
       "    <tr style=\"text-align: right;\">\n",
       "      <th></th>\n",
       "      <th>Close</th>\n",
       "    </tr>\n",
       "  </thead>\n",
       "  <tbody>\n",
       "    <tr>\n",
       "      <th>0</th>\n",
       "      <td>0.087009</td>\n",
       "    </tr>\n",
       "    <tr>\n",
       "      <th>1</th>\n",
       "      <td>0.089200</td>\n",
       "    </tr>\n",
       "    <tr>\n",
       "      <th>2</th>\n",
       "      <td>0.089609</td>\n",
       "    </tr>\n",
       "    <tr>\n",
       "      <th>3</th>\n",
       "      <td>0.088000</td>\n",
       "    </tr>\n",
       "    <tr>\n",
       "      <th>4</th>\n",
       "      <td>0.077982</td>\n",
       "    </tr>\n",
       "    <tr>\n",
       "      <th>...</th>\n",
       "      <td>...</td>\n",
       "    </tr>\n",
       "    <tr>\n",
       "      <th>2760</th>\n",
       "      <td>0.174155</td>\n",
       "    </tr>\n",
       "    <tr>\n",
       "      <th>2761</th>\n",
       "      <td>0.192827</td>\n",
       "    </tr>\n",
       "    <tr>\n",
       "      <th>2762</th>\n",
       "      <td>0.198191</td>\n",
       "    </tr>\n",
       "    <tr>\n",
       "      <th>2763</th>\n",
       "      <td>0.209609</td>\n",
       "    </tr>\n",
       "    <tr>\n",
       "      <th>2764</th>\n",
       "      <td>0.207500</td>\n",
       "    </tr>\n",
       "  </tbody>\n",
       "</table>\n",
       "<p>2765 rows × 1 columns</p>\n",
       "</div>"
      ],
      "text/plain": [
       "         Close\n",
       "0     0.087009\n",
       "1     0.089200\n",
       "2     0.089609\n",
       "3     0.088000\n",
       "4     0.077982\n",
       "...        ...\n",
       "2760  0.174155\n",
       "2761  0.192827\n",
       "2762  0.198191\n",
       "2763  0.209609\n",
       "2764  0.207500\n",
       "\n",
       "[2765 rows x 1 columns]"
      ]
     },
     "execution_count": 74,
     "metadata": {},
     "output_type": "execute_result"
    }
   ],
   "source": [
    "scaler = MinMaxScaler()\n",
    "scale_col=['Close']\n",
    "df_scaled=scaler.fit_transform(df)\n",
    "\n",
    "df_scaled=pd.DataFrame(df_scaled)\n",
    "df_scaled.columns=scale_col\n",
    "\n",
    "df_scaled"
   ]
  },
  {
   "cell_type": "code",
   "execution_count": 82,
   "metadata": {},
   "outputs": [
    {
     "name": "stdout",
     "output_type": "stream",
     "text": [
      "(2741, 1) (24, 1)\n"
     ]
    }
   ],
   "source": [
    "train = df_scaled[:-24]\n",
    "test = df_scaled[-24:]\n",
    "print(train.shape,test.shape)"
   ]
  },
  {
   "cell_type": "code",
   "execution_count": 83,
   "metadata": {},
   "outputs": [
    {
     "name": "stdout",
     "output_type": "stream",
     "text": [
      "(2733, 1) (2733, 1)\n"
     ]
    }
   ],
   "source": [
    "X_train=train[:-8]\n",
    "y_train=train[8:]\n",
    "print(X_train.shape,y_train.shape)"
   ]
  },
  {
   "cell_type": "code",
   "execution_count": 84,
   "metadata": {},
   "outputs": [
    {
     "name": "stdout",
     "output_type": "stream",
     "text": [
      "(16, 1) (16, 1)\n"
     ]
    }
   ],
   "source": [
    "X_test=test[:-8]\n",
    "y_test=test[8:]\n",
    "print(X_test.shape,y_test.shape)"
   ]
  },
  {
   "cell_type": "code",
   "execution_count": 85,
   "metadata": {},
   "outputs": [],
   "source": [
    "# window_size=8 : S&9500 1일 영업시간(9:30~16:00) 동안의 dataset\n",
    "def make_dataset(data,label,window_size=8):\n",
    "    feature_list=[]\n",
    "    label_list=[]\n",
    "    for i in range(len(data)-window_size):\n",
    "        feature_list.append(np.array(data[i:i+window_size]))\n",
    "        label_list.append(np.array(label.iloc[i]))\n",
    "    return np.array(feature_list), np.array(label_list)"
   ]
  },
  {
   "cell_type": "code",
   "execution_count": 86,
   "metadata": {},
   "outputs": [],
   "source": [
    "from sklearn.model_selection import train_test_split\n",
    "\n",
    "# train dataset\n",
    "X_train, y_train=make_dataset(X_train,y_train,8)\n",
    "\n",
    "# train, validation set 생성\n",
    "X_train, X_val, y_train, y_val = train_test_split(X_train,y_train, test_size=0.1)\n",
    "\n",
    "# test dataset\n",
    "X_test,y_test=make_dataset(X_test,y_test,8)\n",
    "X_test.shape,y_test.shape\n",
    "# ((8, 8, 1), (8, 1))"
   ]
  },
  {
   "cell_type": "code",
   "execution_count": 87,
   "metadata": {
    "collapsed": true,
    "jupyter": {
     "outputs_hidden": true,
     "source_hidden": true
    }
   },
   "outputs": [
    {
     "name": "stdout",
     "output_type": "stream",
     "text": [
      "(8, 8, 1) (8, 1)\n"
     ]
    }
   ],
   "source": [
    "#X_test,y_test=make_dataset(X_test,y_test,8)\n",
    "#print(X_test.shape,y_test.shape)"
   ]
  },
  {
   "cell_type": "code",
   "execution_count": 12,
   "metadata": {},
   "outputs": [],
   "source": [
    "import tensorflow as tf\n",
    "from tensorflow import keras\n",
    "from keras.models import Sequential\n",
    "from keras.layers import Dense\n",
    "from keras.callbacks import EarlyStopping, ModelCheckpoint,ReduceLROnPlateau\n",
    "from keras.layers import LSTM\n",
    "\n",
    "from keras.callbacks import EarlyStopping\n",
    "earlystopping = EarlyStopping(patience=10,verbose=1)\n",
    "checkpoint = ModelCheckpoint('model.h5', monitor='val_loss', verbose=1, save_best_only=True, mode='auto')\n",
    "\n",
    "model=tf.keras.models.Sequential([\n",
    "    tf.keras.layers.LSTM(64,return_sequences=True,input_shape=(X_train.shape[1],1)),\n",
    "    tf.keras.layers.LSTM(32,return_sequences=False),\n",
    "    tf.keras.layers.Dense(16),\n",
    "    tf.keras.layers.Dense(1)\n",
    "])"
   ]
  },
  {
   "cell_type": "code",
   "execution_count": 13,
   "metadata": {},
   "outputs": [
    {
     "name": "stdout",
     "output_type": "stream",
     "text": [
      "Epoch 1/500\n",
      "489/491 [============================>.] - ETA: 0s - loss: 0.0058\n",
      "Epoch 1: val_loss improved from inf to 0.00088, saving model to model.h5\n",
      "491/491 [==============================] - 9s 10ms/step - loss: 0.0058 - val_loss: 8.7546e-04\n",
      "Epoch 2/500\n",
      "491/491 [==============================] - ETA: 0s - loss: 9.5361e-04\n",
      "Epoch 2: val_loss improved from 0.00088 to 0.00080, saving model to model.h5\n",
      "491/491 [==============================] - 4s 8ms/step - loss: 9.5361e-04 - val_loss: 8.0102e-04\n",
      "Epoch 3/500\n",
      "486/491 [============================>.] - ETA: 0s - loss: 8.3906e-04\n",
      "Epoch 3: val_loss improved from 0.00080 to 0.00071, saving model to model.h5\n",
      "491/491 [==============================] - 4s 9ms/step - loss: 8.4328e-04 - val_loss: 7.0730e-04\n",
      "Epoch 4/500\n",
      "485/491 [============================>.] - ETA: 0s - loss: 7.7113e-04\n",
      "Epoch 4: val_loss did not improve from 0.00071\n",
      "491/491 [==============================] - 4s 8ms/step - loss: 7.7098e-04 - val_loss: 8.5561e-04\n",
      "Epoch 5/500\n",
      "488/491 [============================>.] - ETA: 0s - loss: 6.5466e-04\n",
      "Epoch 5: val_loss improved from 0.00071 to 0.00055, saving model to model.h5\n",
      "491/491 [==============================] - 4s 9ms/step - loss: 6.5292e-04 - val_loss: 5.4805e-04\n",
      "Epoch 6/500\n",
      "491/491 [==============================] - ETA: 0s - loss: 5.7391e-04\n",
      "Epoch 6: val_loss did not improve from 0.00055\n",
      "491/491 [==============================] - 4s 8ms/step - loss: 5.7391e-04 - val_loss: 7.5159e-04\n",
      "Epoch 7/500\n",
      "484/491 [============================>.] - ETA: 0s - loss: 4.9188e-04\n",
      "Epoch 7: val_loss did not improve from 0.00055\n",
      "491/491 [==============================] - 4s 8ms/step - loss: 4.8987e-04 - val_loss: 6.6404e-04\n",
      "Epoch 8/500\n",
      "489/491 [============================>.] - ETA: 0s - loss: 4.0103e-04\n",
      "Epoch 8: val_loss improved from 0.00055 to 0.00052, saving model to model.h5\n",
      "491/491 [==============================] - 4s 8ms/step - loss: 4.0014e-04 - val_loss: 5.1784e-04\n",
      "Epoch 9/500\n",
      "486/491 [============================>.] - ETA: 0s - loss: 3.7589e-04\n",
      "Epoch 9: val_loss improved from 0.00052 to 0.00037, saving model to model.h5\n",
      "491/491 [==============================] - 4s 9ms/step - loss: 3.7382e-04 - val_loss: 3.7170e-04\n",
      "Epoch 10/500\n",
      "490/491 [============================>.] - ETA: 0s - loss: 3.2641e-04\n",
      "Epoch 10: val_loss did not improve from 0.00037\n",
      "491/491 [==============================] - 4s 9ms/step - loss: 3.2615e-04 - val_loss: 4.7506e-04\n",
      "Epoch 11/500\n",
      "486/491 [============================>.] - ETA: 0s - loss: 3.3286e-04\n",
      "Epoch 11: val_loss improved from 0.00037 to 0.00026, saving model to model.h5\n",
      "491/491 [==============================] - 4s 8ms/step - loss: 3.3104e-04 - val_loss: 2.6273e-04\n",
      "Epoch 12/500\n",
      "486/491 [============================>.] - ETA: 0s - loss: 2.9160e-04\n",
      "Epoch 12: val_loss did not improve from 0.00026\n",
      "491/491 [==============================] - 4s 9ms/step - loss: 2.9119e-04 - val_loss: 3.0237e-04\n",
      "Epoch 13/500\n",
      "491/491 [==============================] - ETA: 0s - loss: 3.0868e-04\n",
      "Epoch 13: val_loss did not improve from 0.00026\n",
      "491/491 [==============================] - 4s 9ms/step - loss: 3.0868e-04 - val_loss: 3.2758e-04\n",
      "Epoch 14/500\n",
      "487/491 [============================>.] - ETA: 0s - loss: 2.7988e-04\n",
      "Epoch 14: val_loss did not improve from 0.00026\n",
      "491/491 [==============================] - 4s 8ms/step - loss: 2.7953e-04 - val_loss: 2.6803e-04\n",
      "Epoch 15/500\n",
      "491/491 [==============================] - ETA: 0s - loss: 3.5284e-04\n",
      "Epoch 15: val_loss did not improve from 0.00026\n",
      "491/491 [==============================] - 4s 9ms/step - loss: 3.5284e-04 - val_loss: 2.6300e-04\n",
      "Epoch 16/500\n",
      "486/491 [============================>.] - ETA: 0s - loss: 2.9594e-04\n",
      "Epoch 16: val_loss improved from 0.00026 to 0.00026, saving model to model.h5\n",
      "491/491 [==============================] - 4s 9ms/step - loss: 2.9398e-04 - val_loss: 2.5707e-04\n",
      "Epoch 17/500\n",
      "489/491 [============================>.] - ETA: 0s - loss: 2.7228e-04\n",
      "Epoch 17: val_loss did not improve from 0.00026\n",
      "491/491 [==============================] - 4s 9ms/step - loss: 2.7244e-04 - val_loss: 2.7045e-04\n",
      "Epoch 18/500\n",
      "488/491 [============================>.] - ETA: 0s - loss: 2.6165e-04\n",
      "Epoch 18: val_loss did not improve from 0.00026\n",
      "491/491 [==============================] - 4s 8ms/step - loss: 2.6227e-04 - val_loss: 2.6268e-04\n",
      "Epoch 19/500\n",
      "488/491 [============================>.] - ETA: 0s - loss: 2.8093e-04\n",
      "Epoch 19: val_loss did not improve from 0.00026\n",
      "491/491 [==============================] - 4s 8ms/step - loss: 2.8041e-04 - val_loss: 2.7770e-04\n",
      "Epoch 20/500\n",
      "488/491 [============================>.] - ETA: 0s - loss: 2.7225e-04\n",
      "Epoch 20: val_loss did not improve from 0.00026\n",
      "491/491 [==============================] - 4s 9ms/step - loss: 2.7334e-04 - val_loss: 2.6516e-04\n",
      "Epoch 21/500\n",
      "487/491 [============================>.] - ETA: 0s - loss: 2.8873e-04\n",
      "Epoch 21: val_loss did not improve from 0.00026\n",
      "491/491 [==============================] - 4s 8ms/step - loss: 2.8700e-04 - val_loss: 2.7118e-04\n",
      "Epoch 22/500\n",
      "489/491 [============================>.] - ETA: 0s - loss: 2.6154e-04\n",
      "Epoch 22: val_loss improved from 0.00026 to 0.00026, saving model to model.h5\n",
      "491/491 [==============================] - 4s 8ms/step - loss: 2.6083e-04 - val_loss: 2.5680e-04\n",
      "Epoch 23/500\n",
      "485/491 [============================>.] - ETA: 0s - loss: 2.5370e-04\n",
      "Epoch 23: val_loss did not improve from 0.00026\n",
      "491/491 [==============================] - 4s 9ms/step - loss: 2.5332e-04 - val_loss: 2.6821e-04\n",
      "Epoch 24/500\n",
      "485/491 [============================>.] - ETA: 0s - loss: 2.6335e-04\n",
      "Epoch 24: val_loss did not improve from 0.00026\n",
      "491/491 [==============================] - 4s 9ms/step - loss: 2.6400e-04 - val_loss: 5.8775e-04\n",
      "Epoch 25/500\n",
      "485/491 [============================>.] - ETA: 0s - loss: 2.7014e-04\n",
      "Epoch 25: val_loss did not improve from 0.00026\n",
      "491/491 [==============================] - 4s 8ms/step - loss: 2.6905e-04 - val_loss: 4.2894e-04\n",
      "Epoch 26/500\n",
      "489/491 [============================>.] - ETA: 0s - loss: 2.9572e-04\n",
      "Epoch 26: val_loss did not improve from 0.00026\n",
      "491/491 [==============================] - 4s 8ms/step - loss: 2.9551e-04 - val_loss: 2.5980e-04\n",
      "Epoch 27/500\n",
      "487/491 [============================>.] - ETA: 0s - loss: 2.8124e-04\n",
      "Epoch 27: val_loss did not improve from 0.00026\n",
      "491/491 [==============================] - 4s 8ms/step - loss: 2.8048e-04 - val_loss: 2.5825e-04\n",
      "Epoch 28/500\n",
      "488/491 [============================>.] - ETA: 0s - loss: 2.4526e-04\n",
      "Epoch 28: val_loss did not improve from 0.00026\n",
      "491/491 [==============================] - 4s 8ms/step - loss: 2.4494e-04 - val_loss: 2.6487e-04\n",
      "Epoch 29/500\n",
      "485/491 [============================>.] - ETA: 0s - loss: 2.5543e-04\n",
      "Epoch 29: val_loss did not improve from 0.00026\n",
      "491/491 [==============================] - 4s 8ms/step - loss: 2.5591e-04 - val_loss: 2.7143e-04\n",
      "Epoch 30/500\n",
      "489/491 [============================>.] - ETA: 0s - loss: 2.4569e-04\n",
      "Epoch 30: val_loss did not improve from 0.00026\n",
      "491/491 [==============================] - 4s 8ms/step - loss: 2.4635e-04 - val_loss: 2.6381e-04\n",
      "Epoch 31/500\n",
      "487/491 [============================>.] - ETA: 0s - loss: 2.6160e-04\n",
      "Epoch 31: val_loss improved from 0.00026 to 0.00025, saving model to model.h5\n",
      "491/491 [==============================] - 4s 8ms/step - loss: 2.6288e-04 - val_loss: 2.5437e-04\n",
      "Epoch 32/500\n",
      "488/491 [============================>.] - ETA: 0s - loss: 2.5978e-04\n",
      "Epoch 32: val_loss did not improve from 0.00025\n",
      "491/491 [==============================] - 5s 10ms/step - loss: 2.5902e-04 - val_loss: 2.5972e-04\n",
      "Epoch 33/500\n",
      "488/491 [============================>.] - ETA: 0s - loss: 2.7241e-04\n",
      "Epoch 33: val_loss did not improve from 0.00025\n",
      "491/491 [==============================] - 4s 9ms/step - loss: 2.7178e-04 - val_loss: 2.7509e-04\n",
      "Epoch 34/500\n",
      "487/491 [============================>.] - ETA: 0s - loss: 2.3897e-04\n",
      "Epoch 34: val_loss did not improve from 0.00025\n",
      "491/491 [==============================] - 4s 9ms/step - loss: 2.3975e-04 - val_loss: 3.3418e-04\n",
      "Epoch 35/500\n",
      "490/491 [============================>.] - ETA: 0s - loss: 2.5451e-04\n",
      "Epoch 35: val_loss did not improve from 0.00025\n",
      "491/491 [==============================] - 4s 8ms/step - loss: 2.5443e-04 - val_loss: 2.8211e-04\n",
      "Epoch 36/500\n",
      "491/491 [==============================] - ETA: 0s - loss: 2.4824e-04\n",
      "Epoch 36: val_loss did not improve from 0.00025\n",
      "491/491 [==============================] - 4s 9ms/step - loss: 2.4824e-04 - val_loss: 2.6336e-04\n",
      "Epoch 37/500\n",
      "488/491 [============================>.] - ETA: 0s - loss: 2.5236e-04\n",
      "Epoch 37: val_loss did not improve from 0.00025\n",
      "491/491 [==============================] - 4s 8ms/step - loss: 2.5216e-04 - val_loss: 2.6309e-04\n",
      "Epoch 38/500\n",
      "491/491 [==============================] - ETA: 0s - loss: 2.6649e-04\n",
      "Epoch 38: val_loss did not improve from 0.00025\n",
      "491/491 [==============================] - 4s 8ms/step - loss: 2.6649e-04 - val_loss: 2.8250e-04\n",
      "Epoch 39/500\n",
      "490/491 [============================>.] - ETA: 0s - loss: 2.5447e-04\n",
      "Epoch 39: val_loss did not improve from 0.00025\n",
      "491/491 [==============================] - 4s 9ms/step - loss: 2.5432e-04 - val_loss: 3.8528e-04\n",
      "Epoch 40/500\n",
      "485/491 [============================>.] - ETA: 0s - loss: 2.4682e-04\n",
      "Epoch 40: val_loss did not improve from 0.00025\n",
      "491/491 [==============================] - 4s 9ms/step - loss: 2.4748e-04 - val_loss: 2.8591e-04\n",
      "Epoch 41/500\n",
      "487/491 [============================>.] - ETA: 0s - loss: 2.5466e-04\n",
      "Epoch 41: val_loss did not improve from 0.00025\n",
      "491/491 [==============================] - 4s 8ms/step - loss: 2.5314e-04 - val_loss: 2.5620e-04\n",
      "Epoch 41: early stopping\n"
     ]
    }
   ],
   "source": [
    "model.compile(loss='mean_squared_error', optimizer='adam')\n",
    "hist=model.fit(X_train,y_train,epochs=500,batch_size=5,validation_data=(X_val,y_val),callbacks=[checkpoint,earlystopping])"
   ]
  },
  {
   "cell_type": "code",
   "execution_count": 14,
   "metadata": {},
   "outputs": [
    {
     "data": {
      "image/png": "[encoded data removed]",
      "text/plain": [
       "<Figure size 432x288 with 1 Axes>"
      ]
     },
     "metadata": {
      "needs_background": "light"
     },
     "output_type": "display_data"
    }
   ],
   "source": [
    "import matplotlib.pyplot as plt\n",
    "\n",
    "plt.title('Loss')\n",
    "plt.plot(hist.history['val_loss'],label='valid loss')\n",
    "plt.plot(hist.history['loss'],label='train loss')\n",
    "plt.legend()\n",
    "plt.show()\n",
    "\n",
    "#plt.savefig('fig01.png',format='png',dpi=300)"
   ]
  },
  {
   "cell_type": "code",
   "execution_count": 15,
   "metadata": {},
   "outputs": [],
   "source": [
    "y_pred=model.predict(X_test)\n",
    "\n",
    "y_pred = scaler.inverse_transform(y_pred)\n",
    "y_test = scaler.inverse_transform(y_test)"
   ]
  },
  {
   "cell_type": "code",
   "execution_count": 16,
   "metadata": {},
   "outputs": [
    {
     "data": {
      "image/png": "[encoded data removed]",
      "text/plain": [
       "<Figure size 432x288 with 1 Axes>"
      ]
     },
     "metadata": {
      "needs_background": "light"
     },
     "output_type": "display_data"
    }
   ],
   "source": [
    "plt.title('S&P500')\n",
    "plt.plot(y_pred,label='prediction')\n",
    "plt.plot(y_test,label='actual')\n",
    "plt.legend()\n",
    "#plt.show()\n",
    "\n",
    "plt.savefig('LSTM_fig02.png',format='png',dpi=300)"
   ]
  },
  {
   "cell_type": "code",
   "execution_count": 25,
   "metadata": {},
   "outputs": [],
   "source": [
    "result = pd.DataFrame(index=test.index[16:])\n",
    "result.reset_index(inplace=True)\n",
    "\n",
    "result['y_pred'] = y_pred"
   ]
  },
  {
   "cell_type": "code",
   "execution_count": 26,
   "metadata": {},
   "outputs": [
    {
     "data": {
      "image/png": "[encoded data removed]",
      "text/plain": [
       "<Figure size 432x288 with 1 Axes>"
      ]
     },
     "metadata": {
      "needs_background": "light"
     },
     "output_type": "display_data"
    }
   ],
   "source": [
    "plt.title('S&P500')\n",
    "plt.plot(y_pred,label='prediction')\n",
    "plt.plot(y_test,label='actual')\n",
    "\n",
    "shift = result.y_pred.shift(-1).values\n",
    "plt.plot(shift,label=\"shiftin'\")\n",
    "\n",
    "plt.legend()\n",
    "#plt.show()\n",
    "\n",
    "plt.savefig('LSTM_fig03.png',format='png',dpi=300)"
   ]
  },
  {
   "cell_type": "code",
   "execution_count": 28,
   "metadata": {},
   "outputs": [
    {
     "data": {
      "text/plain": [
       "21.23"
      ]
     },
     "execution_count": 28,
     "metadata": {},
     "output_type": "execute_result"
    }
   ],
   "source": [
    "# RMSE\n",
    "\n",
    "from sklearn.metrics import mean_squared_error \n",
    "\n",
    "MSE = mean_squared_error(y_test, y_pred) \n",
    "round(np.sqrt(MSE),2)"
   ]
  },
  {
   "cell_type": "code",
   "execution_count": 29,
   "metadata": {},
   "outputs": [
    {
     "data": {
      "text/plain": [
       "41.36"
      ]
     },
     "execution_count": 29,
     "metadata": {},
     "output_type": "execute_result"
    }
   ],
   "source": [
    "# MAPE\n",
    "\n",
    "def MAPE(y_test, y_pred):\n",
    "    return np.mean(np.abs((y_test - y_pred) / y_test)) * 100 \n",
    "    \n",
    "round(MAPE(y_test, y_pred)*100,2)"
   ]
  },
  {
   "cell_type": "markdown",
   "metadata": {},
   "source": [
    "# BTC"
   ]
  },
  {
   "cell_type": "code",
   "execution_count": 30,
   "metadata": {},
   "outputs": [
    {
     "data": {
      "text/html": [
       "<div>\n",
       "<style scoped>\n",
       "    .dataframe tbody tr th:only-of-type {\n",
       "        vertical-align: middle;\n",
       "    }\n",
       "\n",
       "    .dataframe tbody tr th {\n",
       "        vertical-align: top;\n",
       "    }\n",
       "\n",
       "    .dataframe thead th {\n",
       "        text-align: right;\n",
       "    }\n",
       "</style>\n",
       "<table border=\"1\" class=\"dataframe\">\n",
       "  <thead>\n",
       "    <tr style=\"text-align: right;\">\n",
       "      <th></th>\n",
       "      <th>open</th>\n",
       "      <th>high</th>\n",
       "      <th>low</th>\n",
       "      <th>close</th>\n",
       "      <th>volume</th>\n",
       "      <th>value</th>\n",
       "    </tr>\n",
       "  </thead>\n",
       "  <tbody>\n",
       "    <tr>\n",
       "      <th>2019-09-06 21:00:00+00:00</th>\n",
       "      <td>10837.073450</td>\n",
       "      <td>10892.000000</td>\n",
       "      <td>10825.000000</td>\n",
       "      <td>10826.240000</td>\n",
       "      <td>13.028313</td>\n",
       "      <td>141488.509446</td>\n",
       "    </tr>\n",
       "    <tr>\n",
       "      <th>2019-09-06 22:00:00+00:00</th>\n",
       "      <td>10826.240000</td>\n",
       "      <td>10851.990000</td>\n",
       "      <td>10763.968517</td>\n",
       "      <td>10803.422690</td>\n",
       "      <td>26.329976</td>\n",
       "      <td>284421.274696</td>\n",
       "    </tr>\n",
       "    <tr>\n",
       "      <th>2019-09-06 23:00:00+00:00</th>\n",
       "      <td>10803.410000</td>\n",
       "      <td>10850.000000</td>\n",
       "      <td>10803.410000</td>\n",
       "      <td>10827.649995</td>\n",
       "      <td>11.192036</td>\n",
       "      <td>121318.460494</td>\n",
       "    </tr>\n",
       "    <tr>\n",
       "      <th>2019-09-07 00:00:00+00:00</th>\n",
       "      <td>10833.520000</td>\n",
       "      <td>10879.270000</td>\n",
       "      <td>10833.520000</td>\n",
       "      <td>10843.160000</td>\n",
       "      <td>7.257861</td>\n",
       "      <td>78828.225009</td>\n",
       "    </tr>\n",
       "    <tr>\n",
       "      <th>2019-09-07 01:00:00+00:00</th>\n",
       "      <td>10841.006105</td>\n",
       "      <td>10856.282376</td>\n",
       "      <td>10827.649995</td>\n",
       "      <td>10855.177197</td>\n",
       "      <td>5.160667</td>\n",
       "      <td>55951.010868</td>\n",
       "    </tr>\n",
       "    <tr>\n",
       "      <th>...</th>\n",
       "      <td>...</td>\n",
       "      <td>...</td>\n",
       "      <td>...</td>\n",
       "      <td>...</td>\n",
       "      <td>...</td>\n",
       "      <td>...</td>\n",
       "    </tr>\n",
       "    <tr>\n",
       "      <th>2022-05-01 04:00:00+00:00</th>\n",
       "      <td>38366.850000</td>\n",
       "      <td>38531.871679</td>\n",
       "      <td>38366.850000</td>\n",
       "      <td>38531.871679</td>\n",
       "      <td>0.017207</td>\n",
       "      <td>661.545067</td>\n",
       "    </tr>\n",
       "    <tr>\n",
       "      <th>2022-05-01 05:00:00+00:00</th>\n",
       "      <td>38453.599000</td>\n",
       "      <td>38453.599000</td>\n",
       "      <td>38379.200000</td>\n",
       "      <td>38379.200000</td>\n",
       "      <td>0.019895</td>\n",
       "      <td>764.321204</td>\n",
       "    </tr>\n",
       "    <tr>\n",
       "      <th>2022-05-01 06:00:00+00:00</th>\n",
       "      <td>38379.200000</td>\n",
       "      <td>38445.961000</td>\n",
       "      <td>38332.268000</td>\n",
       "      <td>38382.931000</td>\n",
       "      <td>0.153709</td>\n",
       "      <td>5905.244381</td>\n",
       "    </tr>\n",
       "    <tr>\n",
       "      <th>2022-05-01 07:00:00+00:00</th>\n",
       "      <td>38301.414000</td>\n",
       "      <td>38422.006800</td>\n",
       "      <td>38259.735000</td>\n",
       "      <td>38399.064000</td>\n",
       "      <td>0.520722</td>\n",
       "      <td>19982.987904</td>\n",
       "    </tr>\n",
       "    <tr>\n",
       "      <th>2022-05-01 08:00:00+00:00</th>\n",
       "      <td>38370.906000</td>\n",
       "      <td>38370.906000</td>\n",
       "      <td>37654.172000</td>\n",
       "      <td>37666.710000</td>\n",
       "      <td>2.583532</td>\n",
       "      <td>97615.410157</td>\n",
       "    </tr>\n",
       "  </tbody>\n",
       "</table>\n",
       "<p>20000 rows × 6 columns</p>\n",
       "</div>"
      ],
      "text/plain": [
       "                                   open          high           low  \\\n",
       "2019-09-06 21:00:00+00:00  10837.073450  10892.000000  10825.000000   \n",
       "2019-09-06 22:00:00+00:00  10826.240000  10851.990000  10763.968517   \n",
       "2019-09-06 23:00:00+00:00  10803.410000  10850.000000  10803.410000   \n",
       "2019-09-07 00:00:00+00:00  10833.520000  10879.270000  10833.520000   \n",
       "2019-09-07 01:00:00+00:00  10841.006105  10856.282376  10827.649995   \n",
       "...                                 ...           ...           ...   \n",
       "2022-05-01 04:00:00+00:00  38366.850000  38531.871679  38366.850000   \n",
       "2022-05-01 05:00:00+00:00  38453.599000  38453.599000  38379.200000   \n",
       "2022-05-01 06:00:00+00:00  38379.200000  38445.961000  38332.268000   \n",
       "2022-05-01 07:00:00+00:00  38301.414000  38422.006800  38259.735000   \n",
       "2022-05-01 08:00:00+00:00  38370.906000  38370.906000  37654.172000   \n",
       "\n",
       "                                  close     volume          value  \n",
       "2019-09-06 21:00:00+00:00  10826.240000  13.028313  141488.509446  \n",
       "2019-09-06 22:00:00+00:00  10803.422690  26.329976  284421.274696  \n",
       "2019-09-06 23:00:00+00:00  10827.649995  11.192036  121318.460494  \n",
       "2019-09-07 00:00:00+00:00  10843.160000   7.257861   78828.225009  \n",
       "2019-09-07 01:00:00+00:00  10855.177197   5.160667   55951.010868  \n",
       "...                                 ...        ...            ...  \n",
       "2022-05-01 04:00:00+00:00  38531.871679   0.017207     661.545067  \n",
       "2022-05-01 05:00:00+00:00  38379.200000   0.019895     764.321204  \n",
       "2022-05-01 06:00:00+00:00  38382.931000   0.153709    5905.244381  \n",
       "2022-05-01 07:00:00+00:00  38399.064000   0.520722   19982.987904  \n",
       "2022-05-01 08:00:00+00:00  37666.710000   2.583532   97615.410157  \n",
       "\n",
       "[20000 rows x 6 columns]"
      ]
     },
     "execution_count": 30,
     "metadata": {},
     "output_type": "execute_result"
    }
   ],
   "source": [
    "BTC = pd.read_csv('C:/fintech6/_project2/src/BTC.csv',infer_datetime_format=True,index_col='Unnamed: 0')\n",
    "BTC"
   ]
  },
  {
   "cell_type": "code",
   "execution_count": 31,
   "metadata": {},
   "outputs": [
    {
     "data": {
      "text/html": [
       "<div>\n",
       "<style scoped>\n",
       "    .dataframe tbody tr th:only-of-type {\n",
       "        vertical-align: middle;\n",
       "    }\n",
       "\n",
       "    .dataframe tbody tr th {\n",
       "        vertical-align: top;\n",
       "    }\n",
       "\n",
       "    .dataframe thead th {\n",
       "        text-align: right;\n",
       "    }\n",
       "</style>\n",
       "<table border=\"1\" class=\"dataframe\">\n",
       "  <thead>\n",
       "    <tr style=\"text-align: right;\">\n",
       "      <th></th>\n",
       "      <th>open</th>\n",
       "      <th>high</th>\n",
       "      <th>low</th>\n",
       "      <th>close</th>\n",
       "      <th>volume</th>\n",
       "      <th>value</th>\n",
       "    </tr>\n",
       "  </thead>\n",
       "  <tbody>\n",
       "    <tr>\n",
       "      <th>2019-09-07 00:00:00+00:00</th>\n",
       "      <td>10833.520000</td>\n",
       "      <td>10879.270000</td>\n",
       "      <td>10833.520000</td>\n",
       "      <td>10843.160000</td>\n",
       "      <td>7.257861</td>\n",
       "      <td>7.882823e+04</td>\n",
       "    </tr>\n",
       "    <tr>\n",
       "      <th>2019-09-07 01:00:00+00:00</th>\n",
       "      <td>10841.006105</td>\n",
       "      <td>10856.282376</td>\n",
       "      <td>10827.649995</td>\n",
       "      <td>10855.177197</td>\n",
       "      <td>5.160667</td>\n",
       "      <td>5.595101e+04</td>\n",
       "    </tr>\n",
       "    <tr>\n",
       "      <th>2019-09-07 02:00:00+00:00</th>\n",
       "      <td>10855.177197</td>\n",
       "      <td>10855.177197</td>\n",
       "      <td>10282.054053</td>\n",
       "      <td>10430.460000</td>\n",
       "      <td>187.320146</td>\n",
       "      <td>1.960596e+06</td>\n",
       "    </tr>\n",
       "    <tr>\n",
       "      <th>2019-09-07 03:00:00+00:00</th>\n",
       "      <td>10423.205919</td>\n",
       "      <td>10433.354008</td>\n",
       "      <td>10350.000000</td>\n",
       "      <td>10354.800000</td>\n",
       "      <td>22.704425</td>\n",
       "      <td>2.361178e+05</td>\n",
       "    </tr>\n",
       "    <tr>\n",
       "      <th>2019-09-07 04:00:00+00:00</th>\n",
       "      <td>10361.777139</td>\n",
       "      <td>10403.800000</td>\n",
       "      <td>10350.000000</td>\n",
       "      <td>10390.510000</td>\n",
       "      <td>27.535793</td>\n",
       "      <td>2.857438e+05</td>\n",
       "    </tr>\n",
       "    <tr>\n",
       "      <th>...</th>\n",
       "      <td>...</td>\n",
       "      <td>...</td>\n",
       "      <td>...</td>\n",
       "      <td>...</td>\n",
       "      <td>...</td>\n",
       "      <td>...</td>\n",
       "    </tr>\n",
       "    <tr>\n",
       "      <th>2022-04-30 19:00:00+00:00</th>\n",
       "      <td>38634.148000</td>\n",
       "      <td>38669.788800</td>\n",
       "      <td>38620.169000</td>\n",
       "      <td>38620.169000</td>\n",
       "      <td>0.333999</td>\n",
       "      <td>1.290469e+04</td>\n",
       "    </tr>\n",
       "    <tr>\n",
       "      <th>2022-04-30 20:00:00+00:00</th>\n",
       "      <td>38620.169000</td>\n",
       "      <td>38695.574000</td>\n",
       "      <td>38620.169000</td>\n",
       "      <td>38620.169000</td>\n",
       "      <td>0.217057</td>\n",
       "      <td>8.385589e+03</td>\n",
       "    </tr>\n",
       "    <tr>\n",
       "      <th>2022-04-30 21:00:00+00:00</th>\n",
       "      <td>38620.169000</td>\n",
       "      <td>38757.092732</td>\n",
       "      <td>38620.169000</td>\n",
       "      <td>38620.169000</td>\n",
       "      <td>1.963208</td>\n",
       "      <td>7.588252e+04</td>\n",
       "    </tr>\n",
       "    <tr>\n",
       "      <th>2022-04-30 22:00:00+00:00</th>\n",
       "      <td>38620.169000</td>\n",
       "      <td>38685.101000</td>\n",
       "      <td>38496.827930</td>\n",
       "      <td>38546.263000</td>\n",
       "      <td>1.444348</td>\n",
       "      <td>5.572170e+04</td>\n",
       "    </tr>\n",
       "    <tr>\n",
       "      <th>2022-04-30 23:00:00+00:00</th>\n",
       "      <td>38577.597000</td>\n",
       "      <td>38658.773000</td>\n",
       "      <td>38337.206384</td>\n",
       "      <td>38346.609000</td>\n",
       "      <td>0.093206</td>\n",
       "      <td>3.590322e+03</td>\n",
       "    </tr>\n",
       "  </tbody>\n",
       "</table>\n",
       "<p>19988 rows × 6 columns</p>\n",
       "</div>"
      ],
      "text/plain": [
       "                                   open          high           low  \\\n",
       "2019-09-07 00:00:00+00:00  10833.520000  10879.270000  10833.520000   \n",
       "2019-09-07 01:00:00+00:00  10841.006105  10856.282376  10827.649995   \n",
       "2019-09-07 02:00:00+00:00  10855.177197  10855.177197  10282.054053   \n",
       "2019-09-07 03:00:00+00:00  10423.205919  10433.354008  10350.000000   \n",
       "2019-09-07 04:00:00+00:00  10361.777139  10403.800000  10350.000000   \n",
       "...                                 ...           ...           ...   \n",
       "2022-04-30 19:00:00+00:00  38634.148000  38669.788800  38620.169000   \n",
       "2022-04-30 20:00:00+00:00  38620.169000  38695.574000  38620.169000   \n",
       "2022-04-30 21:00:00+00:00  38620.169000  38757.092732  38620.169000   \n",
       "2022-04-30 22:00:00+00:00  38620.169000  38685.101000  38496.827930   \n",
       "2022-04-30 23:00:00+00:00  38577.597000  38658.773000  38337.206384   \n",
       "\n",
       "                                  close      volume         value  \n",
       "2019-09-07 00:00:00+00:00  10843.160000    7.257861  7.882823e+04  \n",
       "2019-09-07 01:00:00+00:00  10855.177197    5.160667  5.595101e+04  \n",
       "2019-09-07 02:00:00+00:00  10430.460000  187.320146  1.960596e+06  \n",
       "2019-09-07 03:00:00+00:00  10354.800000   22.704425  2.361178e+05  \n",
       "2019-09-07 04:00:00+00:00  10390.510000   27.535793  2.857438e+05  \n",
       "...                                 ...         ...           ...  \n",
       "2022-04-30 19:00:00+00:00  38620.169000    0.333999  1.290469e+04  \n",
       "2022-04-30 20:00:00+00:00  38620.169000    0.217057  8.385589e+03  \n",
       "2022-04-30 21:00:00+00:00  38620.169000    1.963208  7.588252e+04  \n",
       "2022-04-30 22:00:00+00:00  38546.263000    1.444348  5.572170e+04  \n",
       "2022-04-30 23:00:00+00:00  38346.609000    0.093206  3.590322e+03  \n",
       "\n",
       "[19988 rows x 6 columns]"
      ]
     },
     "execution_count": 31,
     "metadata": {},
     "output_type": "execute_result"
    }
   ],
   "source": [
    "BTC = BTC[BTC.index >= '2019-09-07']\n",
    "BTC = BTC[BTC.index < '2022-05-01']\n",
    "BTC"
   ]
  },
  {
   "cell_type": "code",
   "execution_count": 32,
   "metadata": {},
   "outputs": [
    {
     "data": {
      "text/html": [
       "<div>\n",
       "<style scoped>\n",
       "    .dataframe tbody tr th:only-of-type {\n",
       "        vertical-align: middle;\n",
       "    }\n",
       "\n",
       "    .dataframe tbody tr th {\n",
       "        vertical-align: top;\n",
       "    }\n",
       "\n",
       "    .dataframe thead th {\n",
       "        text-align: right;\n",
       "    }\n",
       "</style>\n",
       "<table border=\"1\" class=\"dataframe\">\n",
       "  <thead>\n",
       "    <tr style=\"text-align: right;\">\n",
       "      <th></th>\n",
       "      <th>close</th>\n",
       "    </tr>\n",
       "  </thead>\n",
       "  <tbody>\n",
       "    <tr>\n",
       "      <th>2019-09-07 00:00:00+00:00</th>\n",
       "      <td>10843.160000</td>\n",
       "    </tr>\n",
       "    <tr>\n",
       "      <th>2019-09-07 01:00:00+00:00</th>\n",
       "      <td>10855.177197</td>\n",
       "    </tr>\n",
       "    <tr>\n",
       "      <th>2019-09-07 02:00:00+00:00</th>\n",
       "      <td>10430.460000</td>\n",
       "    </tr>\n",
       "    <tr>\n",
       "      <th>2019-09-07 03:00:00+00:00</th>\n",
       "      <td>10354.800000</td>\n",
       "    </tr>\n",
       "    <tr>\n",
       "      <th>2019-09-07 04:00:00+00:00</th>\n",
       "      <td>10390.510000</td>\n",
       "    </tr>\n",
       "    <tr>\n",
       "      <th>...</th>\n",
       "      <td>...</td>\n",
       "    </tr>\n",
       "    <tr>\n",
       "      <th>2022-04-30 19:00:00+00:00</th>\n",
       "      <td>38620.169000</td>\n",
       "    </tr>\n",
       "    <tr>\n",
       "      <th>2022-04-30 20:00:00+00:00</th>\n",
       "      <td>38620.169000</td>\n",
       "    </tr>\n",
       "    <tr>\n",
       "      <th>2022-04-30 21:00:00+00:00</th>\n",
       "      <td>38620.169000</td>\n",
       "    </tr>\n",
       "    <tr>\n",
       "      <th>2022-04-30 22:00:00+00:00</th>\n",
       "      <td>38546.263000</td>\n",
       "    </tr>\n",
       "    <tr>\n",
       "      <th>2022-04-30 23:00:00+00:00</th>\n",
       "      <td>38346.609000</td>\n",
       "    </tr>\n",
       "  </tbody>\n",
       "</table>\n",
       "<p>19988 rows × 1 columns</p>\n",
       "</div>"
      ],
      "text/plain": [
       "                                  close\n",
       "2019-09-07 00:00:00+00:00  10843.160000\n",
       "2019-09-07 01:00:00+00:00  10855.177197\n",
       "2019-09-07 02:00:00+00:00  10430.460000\n",
       "2019-09-07 03:00:00+00:00  10354.800000\n",
       "2019-09-07 04:00:00+00:00  10390.510000\n",
       "...                                 ...\n",
       "2022-04-30 19:00:00+00:00  38620.169000\n",
       "2022-04-30 20:00:00+00:00  38620.169000\n",
       "2022-04-30 21:00:00+00:00  38620.169000\n",
       "2022-04-30 22:00:00+00:00  38546.263000\n",
       "2022-04-30 23:00:00+00:00  38346.609000\n",
       "\n",
       "[19988 rows x 1 columns]"
      ]
     },
     "execution_count": 32,
     "metadata": {},
     "output_type": "execute_result"
    }
   ],
   "source": [
    "BTC = BTC[['close']]\n",
    "BTC"
   ]
  },
  {
   "cell_type": "code",
   "execution_count": 33,
   "metadata": {},
   "outputs": [
    {
     "data": {
      "text/html": [
       "<div>\n",
       "<style scoped>\n",
       "    .dataframe tbody tr th:only-of-type {\n",
       "        vertical-align: middle;\n",
       "    }\n",
       "\n",
       "    .dataframe tbody tr th {\n",
       "        vertical-align: top;\n",
       "    }\n",
       "\n",
       "    .dataframe thead th {\n",
       "        text-align: right;\n",
       "    }\n",
       "</style>\n",
       "<table border=\"1\" class=\"dataframe\">\n",
       "  <thead>\n",
       "    <tr style=\"text-align: right;\">\n",
       "      <th></th>\n",
       "      <th>close</th>\n",
       "    </tr>\n",
       "  </thead>\n",
       "  <tbody>\n",
       "    <tr>\n",
       "      <th>0</th>\n",
       "      <td>0.099377</td>\n",
       "    </tr>\n",
       "    <tr>\n",
       "      <th>1</th>\n",
       "      <td>0.099566</td>\n",
       "    </tr>\n",
       "    <tr>\n",
       "      <th>2</th>\n",
       "      <td>0.092912</td>\n",
       "    </tr>\n",
       "    <tr>\n",
       "      <th>3</th>\n",
       "      <td>0.091727</td>\n",
       "    </tr>\n",
       "    <tr>\n",
       "      <th>4</th>\n",
       "      <td>0.092286</td>\n",
       "    </tr>\n",
       "    <tr>\n",
       "      <th>...</th>\n",
       "      <td>...</td>\n",
       "    </tr>\n",
       "    <tr>\n",
       "      <th>19983</th>\n",
       "      <td>0.534525</td>\n",
       "    </tr>\n",
       "    <tr>\n",
       "      <th>19984</th>\n",
       "      <td>0.534525</td>\n",
       "    </tr>\n",
       "    <tr>\n",
       "      <th>19985</th>\n",
       "      <td>0.534525</td>\n",
       "    </tr>\n",
       "    <tr>\n",
       "      <th>19986</th>\n",
       "      <td>0.533367</td>\n",
       "    </tr>\n",
       "    <tr>\n",
       "      <th>19987</th>\n",
       "      <td>0.530240</td>\n",
       "    </tr>\n",
       "  </tbody>\n",
       "</table>\n",
       "<p>19988 rows × 1 columns</p>\n",
       "</div>"
      ],
      "text/plain": [
       "          close\n",
       "0      0.099377\n",
       "1      0.099566\n",
       "2      0.092912\n",
       "3      0.091727\n",
       "4      0.092286\n",
       "...         ...\n",
       "19983  0.534525\n",
       "19984  0.534525\n",
       "19985  0.534525\n",
       "19986  0.533367\n",
       "19987  0.530240\n",
       "\n",
       "[19988 rows x 1 columns]"
      ]
     },
     "execution_count": 33,
     "metadata": {},
     "output_type": "execute_result"
    }
   ],
   "source": [
    "scaler = MinMaxScaler()\n",
    "scale_col=['close']\n",
    "BTC_scaled=scaler.fit_transform(BTC)\n",
    "\n",
    "BTC_scaled=pd.DataFrame(BTC_scaled)\n",
    "BTC_scaled.columns=scale_col\n",
    "\n",
    "BTC_scaled"
   ]
  },
  {
   "cell_type": "code",
   "execution_count": 34,
   "metadata": {},
   "outputs": [
    {
     "name": "stdout",
     "output_type": "stream",
     "text": [
      "(19916, 1) (72, 1)\n"
     ]
    }
   ],
   "source": [
    "train = BTC_scaled[:-72]\n",
    "test = BTC_scaled[-72:]\n",
    "print(train.shape,test.shape)"
   ]
  },
  {
   "cell_type": "code",
   "execution_count": 35,
   "metadata": {},
   "outputs": [
    {
     "name": "stdout",
     "output_type": "stream",
     "text": [
      "(19892, 1) (19892, 1)\n"
     ]
    }
   ],
   "source": [
    "X_train=train[:-24]\n",
    "y_train=train[24:]\n",
    "print(X_train.shape,y_train.shape)"
   ]
  },
  {
   "cell_type": "code",
   "execution_count": 36,
   "metadata": {},
   "outputs": [
    {
     "name": "stdout",
     "output_type": "stream",
     "text": [
      "(48, 1) (48, 1)\n"
     ]
    }
   ],
   "source": [
    "X_test=test[:-24]\n",
    "y_test=test[24:]\n",
    "print(X_test.shape,y_test.shape)"
   ]
  },
  {
   "cell_type": "code",
   "execution_count": 37,
   "metadata": {},
   "outputs": [],
   "source": [
    "# window_size=24\n",
    "def make_dataset(data,label,window_size=24):\n",
    "    feature_list=[]\n",
    "    label_list=[]\n",
    "    for i in range(len(data)-window_size):\n",
    "        feature_list.append(np.array(data[i:i+window_size]))\n",
    "        label_list.append(np.array(label.iloc[i]))\n",
    "    return np.array(feature_list), np.array(label_list)"
   ]
  },
  {
   "cell_type": "code",
   "execution_count": 38,
   "metadata": {},
   "outputs": [
    {
     "data": {
      "text/plain": [
       "((24, 24, 1), (24, 1))"
      ]
     },
     "execution_count": 38,
     "metadata": {},
     "output_type": "execute_result"
    }
   ],
   "source": [
    "# train dataset\n",
    "X_train, y_train=make_dataset(X_train,y_train,24)\n",
    "\n",
    "# train, validation set 생성\n",
    "X_train, X_val, y_train, y_val = train_test_split(X_train,y_train, test_size=0.2)\n",
    "\n",
    "# test dataset\n",
    "X_test,y_test=make_dataset(X_test,y_test,24)\n",
    "X_test.shape,y_test.shape"
   ]
  },
  {
   "cell_type": "code",
   "execution_count": 39,
   "metadata": {},
   "outputs": [],
   "source": [
    "model=tf.keras.models.Sequential([\n",
    "    tf.keras.layers.LSTM(192,return_sequences=True,input_shape=(X_train.shape[1],1)),\n",
    "    tf.keras.layers.LSTM(96,return_sequences=False),\n",
    "    tf.keras.layers.Dense(48),\n",
    "    tf.keras.layers.Dense(1)\n",
    "])"
   ]
  },
  {
   "cell_type": "code",
   "execution_count": 40,
   "metadata": {},
   "outputs": [
    {
     "name": "stdout",
     "output_type": "stream",
     "text": [
      "Epoch 1/500\n",
      "3179/3179 [==============================] - 86s 26ms/step - loss: 4.0229e-04 - val_loss: 1.4554e-04\n",
      "Epoch 2/500\n",
      "3179/3179 [==============================] - 88s 28ms/step - loss: 1.2263e-04 - val_loss: 7.1634e-05\n",
      "Epoch 3/500\n",
      "3179/3179 [==============================] - 91s 29ms/step - loss: 8.9735e-05 - val_loss: 4.6118e-05\n",
      "Epoch 4/500\n",
      "3179/3179 [==============================] - 93s 29ms/step - loss: 8.4878e-05 - val_loss: 1.0399e-04\n",
      "Epoch 5/500\n",
      "3179/3179 [==============================] - 98s 31ms/step - loss: 7.5303e-05 - val_loss: 1.0288e-04\n",
      "Epoch 6/500\n",
      "3179/3179 [==============================] - 98s 31ms/step - loss: 7.2871e-05 - val_loss: 1.1280e-04\n",
      "Epoch 7/500\n",
      "3179/3179 [==============================] - 96s 30ms/step - loss: 6.7433e-05 - val_loss: 4.4437e-05\n",
      "Epoch 8/500\n",
      "3179/3179 [==============================] - 101s 32ms/step - loss: 6.5784e-05 - val_loss: 1.3168e-04\n",
      "Epoch 9/500\n",
      "3179/3179 [==============================] - 98s 31ms/step - loss: 6.4426e-05 - val_loss: 1.5170e-04\n",
      "Epoch 10/500\n",
      "3179/3179 [==============================] - 100s 31ms/step - loss: 6.0854e-05 - val_loss: 1.7719e-04\n",
      "Epoch 11/500\n",
      "3179/3179 [==============================] - 101s 32ms/step - loss: 5.8735e-05 - val_loss: 4.5638e-05\n",
      "Epoch 12/500\n",
      "3179/3179 [==============================] - 99s 31ms/step - loss: 5.7595e-05 - val_loss: 7.6992e-05\n",
      "Epoch 13/500\n",
      "3179/3179 [==============================] - 99s 31ms/step - loss: 5.7736e-05 - val_loss: 2.6218e-04\n",
      "Epoch 14/500\n",
      "3179/3179 [==============================] - 99s 31ms/step - loss: 5.4754e-05 - val_loss: 5.2751e-05\n",
      "Epoch 15/500\n",
      "3179/3179 [==============================] - 106s 33ms/step - loss: 5.5474e-05 - val_loss: 3.6107e-05\n",
      "Epoch 16/500\n",
      "3179/3179 [==============================] - 103s 32ms/step - loss: 5.5473e-05 - val_loss: 7.7555e-05\n",
      "Epoch 17/500\n",
      "3179/3179 [==============================] - 103s 32ms/step - loss: 5.7482e-05 - val_loss: 1.1150e-04\n",
      "Epoch 18/500\n",
      "3179/3179 [==============================] - 101s 32ms/step - loss: 5.5078e-05 - val_loss: 4.6293e-05\n",
      "Epoch 19/500\n",
      "3179/3179 [==============================] - 98s 31ms/step - loss: 5.4161e-05 - val_loss: 7.9955e-05\n",
      "Epoch 20/500\n",
      "3179/3179 [==============================] - 125s 39ms/step - loss: 5.3449e-05 - val_loss: 3.5846e-05\n",
      "Epoch 21/500\n",
      "3179/3179 [==============================] - 109s 34ms/step - loss: 5.4037e-05 - val_loss: 5.0573e-05\n",
      "Epoch 22/500\n",
      "3179/3179 [==============================] - 108s 34ms/step - loss: 5.0233e-05 - val_loss: 3.6684e-05\n",
      "Epoch 23/500\n",
      "3179/3179 [==============================] - 113s 36ms/step - loss: 5.1529e-05 - val_loss: 1.2684e-04\n",
      "Epoch 24/500\n",
      "3179/3179 [==============================] - 116s 36ms/step - loss: 4.9742e-05 - val_loss: 4.1201e-05\n",
      "Epoch 25/500\n",
      "3179/3179 [==============================] - 123s 39ms/step - loss: 4.9947e-05 - val_loss: 3.6561e-05\n",
      "Epoch 26/500\n",
      "3179/3179 [==============================] - 122s 38ms/step - loss: 5.0101e-05 - val_loss: 3.8869e-05\n",
      "Epoch 27/500\n",
      "3179/3179 [==============================] - 132s 41ms/step - loss: 4.7598e-05 - val_loss: 7.6703e-05\n",
      "Epoch 28/500\n",
      "3179/3179 [==============================] - 134s 42ms/step - loss: 5.0039e-05 - val_loss: 4.7824e-05\n",
      "Epoch 29/500\n",
      "3179/3179 [==============================] - 118s 37ms/step - loss: 4.8620e-05 - val_loss: 4.8434e-05\n",
      "Epoch 30/500\n",
      "3179/3179 [==============================] - 114s 36ms/step - loss: 4.6126e-05 - val_loss: 4.1923e-05\n",
      "Epoch 30: early stopping\n"
     ]
    }
   ],
   "source": [
    "model.compile(loss='mean_squared_error', optimizer='adam')\n",
    "hist=model.fit(X_train,y_train,epochs=500,batch_size=5,validation_data=(X_val,y_val),callbacks=[earlystopping])"
   ]
  },
  {
   "cell_type": "code",
   "execution_count": 41,
   "metadata": {},
   "outputs": [
    {
     "data": {
      "image/png": "[encoded data removed]",
      "text/plain": [
       "<Figure size 432x288 with 1 Axes>"
      ]
     },
     "metadata": {
      "needs_background": "light"
     },
     "output_type": "display_data"
    }
   ],
   "source": [
    "plt.title('Loss')\n",
    "plt.plot(hist.history['val_loss'],label='valid loss')\n",
    "plt.plot(hist.history['loss'],label='train loss')\n",
    "plt.legend()\n",
    "plt.show()\n",
    "\n",
    "#plt.savefig('LSTM_fig04.png',format='png',dpi=300)"
   ]
  },
  {
   "cell_type": "code",
   "execution_count": 42,
   "metadata": {},
   "outputs": [],
   "source": [
    "y_pred=model.predict(X_test)\n",
    "\n",
    "y_pred = scaler.inverse_transform(y_pred)\n",
    "y_test = scaler.inverse_transform(y_test)"
   ]
  },
  {
   "cell_type": "code",
   "execution_count": 43,
   "metadata": {},
   "outputs": [
    {
     "data": {
      "image/png": "[encoded data removed]",
      "text/plain": [
       "<Figure size 432x288 with 1 Axes>"
      ]
     },
     "metadata": {
      "needs_background": "light"
     },
     "output_type": "display_data"
    }
   ],
   "source": [
    "plt.title('BTC')\n",
    "plt.plot(y_pred,label='prediction')\n",
    "plt.plot(y_test,label='actual')\n",
    "plt.legend()\n",
    "plt.show()\n",
    "\n",
    "#plt.savefig('LSTM_fig05.png',format='png',dpi=300)"
   ]
  },
  {
   "cell_type": "code",
   "execution_count": 45,
   "metadata": {},
   "outputs": [],
   "source": [
    "result = pd.DataFrame(index=test.index[48:])\n",
    "result.reset_index(inplace=True)\n",
    "\n",
    "result['y_pred'] = y_pred"
   ]
  },
  {
   "cell_type": "code",
   "execution_count": 47,
   "metadata": {},
   "outputs": [
    {
     "data": {
      "image/png": "[encoded data removed]",
      "text/plain": [
       "<Figure size 432x288 with 1 Axes>"
      ]
     },
     "metadata": {
      "needs_background": "light"
     },
     "output_type": "display_data"
    }
   ],
   "source": [
    "plt.title('BTC')\n",
    "plt.plot(y_pred,label='prediction')\n",
    "plt.plot(y_test,label='actual')\n",
    "\n",
    "shift = result.y_pred.shift(-1).values\n",
    "plt.plot(shift,label=\"shiftin'\")\n",
    "\n",
    "plt.legend()\n",
    "plt.show()\n",
    "\n",
    "#plt.savefig('LSTM_fig06.png',format='png',dpi=300)"
   ]
  },
  {
   "cell_type": "code",
   "execution_count": 50,
   "metadata": {},
   "outputs": [
    {
     "data": {
      "text/plain": [
       "231.28"
      ]
     },
     "execution_count": 50,
     "metadata": {},
     "output_type": "execute_result"
    }
   ],
   "source": [
    "# RMSE\n",
    "\n",
    "MSE = mean_squared_error(y_test, y_pred) \n",
    "RMSE=np.sqrt(MSE)\n",
    "round(RMSE,2)"
   ]
  },
  {
   "cell_type": "code",
   "execution_count": 51,
   "metadata": {},
   "outputs": [
    {
     "data": {
      "text/plain": [
       "48.81"
      ]
     },
     "execution_count": 51,
     "metadata": {},
     "output_type": "execute_result"
    }
   ],
   "source": [
    "# MAPE\n",
    "\n",
    "def MAPE(y_test, y_pred):\n",
    "\treturn np.mean(np.abs((y_test - y_pred) / y_test)) * 100 \n",
    "    \n",
    "round(MAPE(y_test, y_pred)*100,2)"
   ]
  },
  {
   "cell_type": "code",
   "execution_count": null,
   "metadata": {},
   "outputs": [],
   "source": []
  },
  {
   "cell_type": "code",
   "execution_count": null,
   "metadata": {},
   "outputs": [],
   "source": []
  },
  {
   "cell_type": "code",
   "execution_count": null,
   "metadata": {},
   "outputs": [],
   "source": []
  },
  {
   "cell_type": "raw",
   "metadata": {},
   "source": [
    "참고링크\n",
    "https://teddylee777.github.io/tensorflow/LSTM%EC%9C%BC%EB%A1%9C-%EC%98%88%EC%B8%A1%ED%95%B4%EB%B3%B4%EB%8A%94-%EC%82%BC%EC%84%B1%EC%A0%84%EC%9E%90-%EC%A3%BC%EA%B0%80"
   ]
  }
 ],
 "metadata": {
  "kernelspec": {
   "display_name": "Python 3",
   "language": "python",
   "name": "python3"
  },
  "language_info": {
   "codemirror_mode": {
    "name": "ipython",
    "version": 3
   },
   "file_extension": ".py",
   "mimetype": "text/x-python",
   "name": "python",
   "nbconvert_exporter": "python",
   "pygments_lexer": "ipython3",
   "version": "3.8.5"
  }
 },
 "nbformat": 4,
 "nbformat_minor": 4
}
